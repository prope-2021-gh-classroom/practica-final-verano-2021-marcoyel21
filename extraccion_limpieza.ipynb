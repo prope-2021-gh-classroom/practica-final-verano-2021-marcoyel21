{
 "cells": [
  {
   "cell_type": "markdown",
   "id": "e29a8151",
   "metadata": {},
   "source": [
    "# LIMPIEZA Y EDA\n",
    "## Limpieza"
   ]
  },
  {
   "cell_type": "code",
   "execution_count": 283,
   "id": "a2ec7a17",
   "metadata": {},
   "outputs": [],
   "source": [
    "library(readr)\n",
    "library(dplyr)\n",
    "library(ggplot2)\n",
    "library(pracma)"
   ]
  },
  {
   "cell_type": "code",
   "execution_count": 284,
   "id": "18067ec1-7d96-4765-b26b-89881cc1212c",
   "metadata": {},
   "outputs": [
    {
     "name": "stderr",
     "output_type": "stream",
     "text": [
      "Installing package into ‘/usr/local/lib/R/site-library’\n",
      "(as ‘lib’ is unspecified)\n",
      "\n",
      "Installing package into ‘/usr/local/lib/R/site-library’\n",
      "(as ‘lib’ is unspecified)\n",
      "\n",
      "Installing package into ‘/usr/local/lib/R/site-library’\n",
      "(as ‘lib’ is unspecified)\n",
      "\n"
     ]
    }
   ],
   "source": [
    "install.packages(\"tidyverse\")\n",
    "install.packages(\"pracma\")\n",
    "install.packages(\"dplyr\")"
   ]
  },
  {
   "cell_type": "code",
   "execution_count": 285,
   "id": "7d7d56f1",
   "metadata": {},
   "outputs": [],
   "source": [
    "#obtenemos datos \n",
    "data<-read.csv(\"casos_nacionales_covid-19.csv\")"
   ]
  },
  {
   "cell_type": "code",
   "execution_count": 286,
   "id": "bd2ee01f",
   "metadata": {},
   "outputs": [
    {
     "data": {
      "text/html": [
       "<table class=\"dataframe\">\n",
       "<caption>A data.frame: 6 × 41</caption>\n",
       "<thead>\n",
       "\t<tr><th></th><th scope=col>X</th><th scope=col>fecha_actualizacion</th><th scope=col>id_registro</th><th scope=col>origen</th><th scope=col>sector</th><th scope=col>entidad_um</th><th scope=col>sexo</th><th scope=col>entidad_nac</th><th scope=col>entidad_res</th><th scope=col>municipio_res</th><th scope=col>⋯</th><th scope=col>otro_caso</th><th scope=col>toma_muestra_lab</th><th scope=col>resultado_lab</th><th scope=col>toma_muestra_antigeno</th><th scope=col>resultado_antigeno</th><th scope=col>clasificacion_final</th><th scope=col>migrante</th><th scope=col>pais_nacionalidad</th><th scope=col>pais_origen</th><th scope=col>uci</th></tr>\n",
       "\t<tr><th></th><th scope=col>&lt;int&gt;</th><th scope=col>&lt;chr&gt;</th><th scope=col>&lt;chr&gt;</th><th scope=col>&lt;chr&gt;</th><th scope=col>&lt;chr&gt;</th><th scope=col>&lt;chr&gt;</th><th scope=col>&lt;chr&gt;</th><th scope=col>&lt;chr&gt;</th><th scope=col>&lt;chr&gt;</th><th scope=col>&lt;chr&gt;</th><th scope=col>⋯</th><th scope=col>&lt;chr&gt;</th><th scope=col>&lt;chr&gt;</th><th scope=col>&lt;chr&gt;</th><th scope=col>&lt;chr&gt;</th><th scope=col>&lt;chr&gt;</th><th scope=col>&lt;chr&gt;</th><th scope=col>&lt;chr&gt;</th><th scope=col>&lt;chr&gt;</th><th scope=col>&lt;chr&gt;</th><th scope=col>&lt;chr&gt;</th></tr>\n",
       "</thead>\n",
       "<tbody>\n",
       "\t<tr><th scope=row>1</th><td>1</td><td>2021-</td><td>z482b8</td><td>USMER</td><td>SSA</td><td>CIUDAD DE MÉXICO</td><td>HOMBRE</td><td>CIUDAD DE MÉXICO</td><td>NA</td><td>NA</td><td>⋯</td><td>NO</td><td>NO</td><td>NO APLICA (CASO SIN MUESTRA)</td><td>NO</td><td>NO APLICA (CASO SIN MUESTRA)</td><td>CASO DE COVID-19 CONFIRMADO POR ASOCIACIÓN CLÍNICA EPIDEMIOLÓGICA</td><td>NO ESPECIFICADO</td><td>MÉXICO</td><td>NO APLICA</td><td>NO APLICA</td></tr>\n",
       "\t<tr><th scope=row>2</th><td>2</td><td>2021-</td><td>z24953</td><td>USMER</td><td>SSA</td><td>CIUDAD DE MÉXICO</td><td>MUJER </td><td>CIUDAD DE MÉXICO</td><td>NA</td><td>NA</td><td>⋯</td><td>SI</td><td>SI</td><td>NO POSITIVO A SARS-COV-2    </td><td>NO</td><td>NO APLICA (CASO SIN MUESTRA)</td><td>NEGATIVO A SARS-COV-2                                            </td><td>NO ESPECIFICADO</td><td>MÉXICO</td><td>NO APLICA</td><td>NO APLICA</td></tr>\n",
       "\t<tr><th scope=row>3</th><td>3</td><td>2021-</td><td>zz8e77</td><td>USMER</td><td>SSA</td><td>CIUDAD DE MÉXICO</td><td>HOMBRE</td><td>CIUDAD DE MÉXICO</td><td>NA</td><td>NA</td><td>⋯</td><td>NO</td><td>NO</td><td>NO APLICA (CASO SIN MUESTRA)</td><td>NO</td><td>NO APLICA (CASO SIN MUESTRA)</td><td>CASO SOSPECHOSO                                                  </td><td>NO ESPECIFICADO</td><td>MÉXICO</td><td>NO APLICA</td><td>NO APLICA</td></tr>\n",
       "\t<tr><th scope=row>4</th><td>4</td><td>2021-</td><td>z2d0c4</td><td>USMER</td><td>SSA</td><td>CIUDAD DE MÉXICO</td><td>MUJER </td><td>CIUDAD DE MÉXICO</td><td>NA</td><td>NA</td><td>⋯</td><td>NO</td><td>SI</td><td>NO POSITIVO A SARS-COV-2    </td><td>NO</td><td>NO APLICA (CASO SIN MUESTRA)</td><td>NEGATIVO A SARS-COV-2                                            </td><td>NO ESPECIFICADO</td><td>MÉXICO</td><td>NO APLICA</td><td>NO APLICA</td></tr>\n",
       "\t<tr><th scope=row>5</th><td>5</td><td>2021-</td><td>z26b82</td><td>USMER</td><td>SSA</td><td>CIUDAD DE MÉXICO</td><td>MUJER </td><td>CIUDAD DE MÉXICO</td><td>NA</td><td>NA</td><td>⋯</td><td>NO</td><td>NO</td><td>NO APLICA (CASO SIN MUESTRA)</td><td>SI</td><td>NEGATIVO A SARS-COV-2       </td><td>NEGATIVO A SARS-COV-2                                            </td><td>NO ESPECIFICADO</td><td>MÉXICO</td><td>NO APLICA</td><td>NO APLICA</td></tr>\n",
       "\t<tr><th scope=row>6</th><td>6</td><td>2021-</td><td>z1b985</td><td>USMER</td><td>SSA</td><td>CIUDAD DE MÉXICO</td><td>MUJER </td><td>CIUDAD DE MÉXICO</td><td>NA</td><td>NA</td><td>⋯</td><td>SI</td><td>SI</td><td>NO POSITIVO A SARS-COV-2    </td><td>NO</td><td>NO APLICA (CASO SIN MUESTRA)</td><td>NEGATIVO A SARS-COV-2                                            </td><td>NO ESPECIFICADO</td><td>MÉXICO</td><td>NO APLICA</td><td>NO APLICA</td></tr>\n",
       "</tbody>\n",
       "</table>\n"
      ],
      "text/latex": [
       "A data.frame: 6 × 41\n",
       "\\begin{tabular}{r|lllllllllllllllllllll}\n",
       "  & X & fecha\\_actualizacion & id\\_registro & origen & sector & entidad\\_um & sexo & entidad\\_nac & entidad\\_res & municipio\\_res & ⋯ & otro\\_caso & toma\\_muestra\\_lab & resultado\\_lab & toma\\_muestra\\_antigeno & resultado\\_antigeno & clasificacion\\_final & migrante & pais\\_nacionalidad & pais\\_origen & uci\\\\\n",
       "  & <int> & <chr> & <chr> & <chr> & <chr> & <chr> & <chr> & <chr> & <chr> & <chr> & ⋯ & <chr> & <chr> & <chr> & <chr> & <chr> & <chr> & <chr> & <chr> & <chr> & <chr>\\\\\n",
       "\\hline\n",
       "\t1 & 1 & 2021- & z482b8 & USMER & SSA & CIUDAD DE MÉXICO & HOMBRE & CIUDAD DE MÉXICO & NA & NA & ⋯ & NO & NO & NO APLICA (CASO SIN MUESTRA) & NO & NO APLICA (CASO SIN MUESTRA) & CASO DE COVID-19 CONFIRMADO POR ASOCIACIÓN CLÍNICA EPIDEMIOLÓGICA & NO ESPECIFICADO & MÉXICO & NO APLICA & NO APLICA\\\\\n",
       "\t2 & 2 & 2021- & z24953 & USMER & SSA & CIUDAD DE MÉXICO & MUJER  & CIUDAD DE MÉXICO & NA & NA & ⋯ & SI & SI & NO POSITIVO A SARS-COV-2     & NO & NO APLICA (CASO SIN MUESTRA) & NEGATIVO A SARS-COV-2                                             & NO ESPECIFICADO & MÉXICO & NO APLICA & NO APLICA\\\\\n",
       "\t3 & 3 & 2021- & zz8e77 & USMER & SSA & CIUDAD DE MÉXICO & HOMBRE & CIUDAD DE MÉXICO & NA & NA & ⋯ & NO & NO & NO APLICA (CASO SIN MUESTRA) & NO & NO APLICA (CASO SIN MUESTRA) & CASO SOSPECHOSO                                                   & NO ESPECIFICADO & MÉXICO & NO APLICA & NO APLICA\\\\\n",
       "\t4 & 4 & 2021- & z2d0c4 & USMER & SSA & CIUDAD DE MÉXICO & MUJER  & CIUDAD DE MÉXICO & NA & NA & ⋯ & NO & SI & NO POSITIVO A SARS-COV-2     & NO & NO APLICA (CASO SIN MUESTRA) & NEGATIVO A SARS-COV-2                                             & NO ESPECIFICADO & MÉXICO & NO APLICA & NO APLICA\\\\\n",
       "\t5 & 5 & 2021- & z26b82 & USMER & SSA & CIUDAD DE MÉXICO & MUJER  & CIUDAD DE MÉXICO & NA & NA & ⋯ & NO & NO & NO APLICA (CASO SIN MUESTRA) & SI & NEGATIVO A SARS-COV-2        & NEGATIVO A SARS-COV-2                                             & NO ESPECIFICADO & MÉXICO & NO APLICA & NO APLICA\\\\\n",
       "\t6 & 6 & 2021- & z1b985 & USMER & SSA & CIUDAD DE MÉXICO & MUJER  & CIUDAD DE MÉXICO & NA & NA & ⋯ & SI & SI & NO POSITIVO A SARS-COV-2     & NO & NO APLICA (CASO SIN MUESTRA) & NEGATIVO A SARS-COV-2                                             & NO ESPECIFICADO & MÉXICO & NO APLICA & NO APLICA\\\\\n",
       "\\end{tabular}\n"
      ],
      "text/markdown": [
       "\n",
       "A data.frame: 6 × 41\n",
       "\n",
       "| <!--/--> | X &lt;int&gt; | fecha_actualizacion &lt;chr&gt; | id_registro &lt;chr&gt; | origen &lt;chr&gt; | sector &lt;chr&gt; | entidad_um &lt;chr&gt; | sexo &lt;chr&gt; | entidad_nac &lt;chr&gt; | entidad_res &lt;chr&gt; | municipio_res &lt;chr&gt; | ⋯ ⋯ | otro_caso &lt;chr&gt; | toma_muestra_lab &lt;chr&gt; | resultado_lab &lt;chr&gt; | toma_muestra_antigeno &lt;chr&gt; | resultado_antigeno &lt;chr&gt; | clasificacion_final &lt;chr&gt; | migrante &lt;chr&gt; | pais_nacionalidad &lt;chr&gt; | pais_origen &lt;chr&gt; | uci &lt;chr&gt; |\n",
       "|---|---|---|---|---|---|---|---|---|---|---|---|---|---|---|---|---|---|---|---|---|---|\n",
       "| 1 | 1 | 2021- | z482b8 | USMER | SSA | CIUDAD DE MÉXICO | HOMBRE | CIUDAD DE MÉXICO | NA | NA | ⋯ | NO | NO | NO APLICA (CASO SIN MUESTRA) | NO | NO APLICA (CASO SIN MUESTRA) | CASO DE COVID-19 CONFIRMADO POR ASOCIACIÓN CLÍNICA EPIDEMIOLÓGICA | NO ESPECIFICADO | MÉXICO | NO APLICA | NO APLICA |\n",
       "| 2 | 2 | 2021- | z24953 | USMER | SSA | CIUDAD DE MÉXICO | MUJER  | CIUDAD DE MÉXICO | NA | NA | ⋯ | SI | SI | NO POSITIVO A SARS-COV-2     | NO | NO APLICA (CASO SIN MUESTRA) | NEGATIVO A SARS-COV-2                                             | NO ESPECIFICADO | MÉXICO | NO APLICA | NO APLICA |\n",
       "| 3 | 3 | 2021- | zz8e77 | USMER | SSA | CIUDAD DE MÉXICO | HOMBRE | CIUDAD DE MÉXICO | NA | NA | ⋯ | NO | NO | NO APLICA (CASO SIN MUESTRA) | NO | NO APLICA (CASO SIN MUESTRA) | CASO SOSPECHOSO                                                   | NO ESPECIFICADO | MÉXICO | NO APLICA | NO APLICA |\n",
       "| 4 | 4 | 2021- | z2d0c4 | USMER | SSA | CIUDAD DE MÉXICO | MUJER  | CIUDAD DE MÉXICO | NA | NA | ⋯ | NO | SI | NO POSITIVO A SARS-COV-2     | NO | NO APLICA (CASO SIN MUESTRA) | NEGATIVO A SARS-COV-2                                             | NO ESPECIFICADO | MÉXICO | NO APLICA | NO APLICA |\n",
       "| 5 | 5 | 2021- | z26b82 | USMER | SSA | CIUDAD DE MÉXICO | MUJER  | CIUDAD DE MÉXICO | NA | NA | ⋯ | NO | NO | NO APLICA (CASO SIN MUESTRA) | SI | NEGATIVO A SARS-COV-2        | NEGATIVO A SARS-COV-2                                             | NO ESPECIFICADO | MÉXICO | NO APLICA | NO APLICA |\n",
       "| 6 | 6 | 2021- | z1b985 | USMER | SSA | CIUDAD DE MÉXICO | MUJER  | CIUDAD DE MÉXICO | NA | NA | ⋯ | SI | SI | NO POSITIVO A SARS-COV-2     | NO | NO APLICA (CASO SIN MUESTRA) | NEGATIVO A SARS-COV-2                                             | NO ESPECIFICADO | MÉXICO | NO APLICA | NO APLICA |\n",
       "\n"
      ],
      "text/plain": [
       "  X fecha_actualizacion id_registro origen sector entidad_um       sexo  \n",
       "1 1 2021-               z482b8      USMER  SSA    CIUDAD DE MÉXICO HOMBRE\n",
       "2 2 2021-               z24953      USMER  SSA    CIUDAD DE MÉXICO MUJER \n",
       "3 3 2021-               zz8e77      USMER  SSA    CIUDAD DE MÉXICO HOMBRE\n",
       "4 4 2021-               z2d0c4      USMER  SSA    CIUDAD DE MÉXICO MUJER \n",
       "5 5 2021-               z26b82      USMER  SSA    CIUDAD DE MÉXICO MUJER \n",
       "6 6 2021-               z1b985      USMER  SSA    CIUDAD DE MÉXICO MUJER \n",
       "  entidad_nac      entidad_res municipio_res ⋯ otro_caso toma_muestra_lab\n",
       "1 CIUDAD DE MÉXICO NA          NA            ⋯ NO        NO              \n",
       "2 CIUDAD DE MÉXICO NA          NA            ⋯ SI        SI              \n",
       "3 CIUDAD DE MÉXICO NA          NA            ⋯ NO        NO              \n",
       "4 CIUDAD DE MÉXICO NA          NA            ⋯ NO        SI              \n",
       "5 CIUDAD DE MÉXICO NA          NA            ⋯ NO        NO              \n",
       "6 CIUDAD DE MÉXICO NA          NA            ⋯ SI        SI              \n",
       "  resultado_lab                toma_muestra_antigeno\n",
       "1 NO APLICA (CASO SIN MUESTRA) NO                   \n",
       "2 NO POSITIVO A SARS-COV-2     NO                   \n",
       "3 NO APLICA (CASO SIN MUESTRA) NO                   \n",
       "4 NO POSITIVO A SARS-COV-2     NO                   \n",
       "5 NO APLICA (CASO SIN MUESTRA) SI                   \n",
       "6 NO POSITIVO A SARS-COV-2     NO                   \n",
       "  resultado_antigeno          \n",
       "1 NO APLICA (CASO SIN MUESTRA)\n",
       "2 NO APLICA (CASO SIN MUESTRA)\n",
       "3 NO APLICA (CASO SIN MUESTRA)\n",
       "4 NO APLICA (CASO SIN MUESTRA)\n",
       "5 NEGATIVO A SARS-COV-2       \n",
       "6 NO APLICA (CASO SIN MUESTRA)\n",
       "  clasificacion_final                                              \n",
       "1 CASO DE COVID-19 CONFIRMADO POR ASOCIACIÓN CLÍNICA EPIDEMIOLÓGICA\n",
       "2 NEGATIVO A SARS-COV-2                                            \n",
       "3 CASO SOSPECHOSO                                                  \n",
       "4 NEGATIVO A SARS-COV-2                                            \n",
       "5 NEGATIVO A SARS-COV-2                                            \n",
       "6 NEGATIVO A SARS-COV-2                                            \n",
       "  migrante        pais_nacionalidad pais_origen uci      \n",
       "1 NO ESPECIFICADO MÉXICO            NO APLICA   NO APLICA\n",
       "2 NO ESPECIFICADO MÉXICO            NO APLICA   NO APLICA\n",
       "3 NO ESPECIFICADO MÉXICO            NO APLICA   NO APLICA\n",
       "4 NO ESPECIFICADO MÉXICO            NO APLICA   NO APLICA\n",
       "5 NO ESPECIFICADO MÉXICO            NO APLICA   NO APLICA\n",
       "6 NO ESPECIFICADO MÉXICO            NO APLICA   NO APLICA"
      ]
     },
     "metadata": {},
     "output_type": "display_data"
    }
   ],
   "source": [
    "head(data)"
   ]
  },
  {
   "cell_type": "markdown",
   "id": "33c0e164",
   "metadata": {},
   "source": [
    "### Missing values"
   ]
  },
  {
   "cell_type": "code",
   "execution_count": 289,
   "id": "0cd40052",
   "metadata": {},
   "outputs": [],
   "source": [
    "missing_data <-sapply(data, function(x) sum(length(which(is.na(x)))))"
   ]
  },
  {
   "cell_type": "code",
   "execution_count": 290,
   "id": "d7ca8d8c",
   "metadata": {},
   "outputs": [
    {
     "data": {
      "text/html": [
       "<table class=\"dataframe\">\n",
       "<caption>A tibble: 5 × 2</caption>\n",
       "<thead>\n",
       "\t<tr><th scope=col>variable</th><th scope=col>missing_data</th></tr>\n",
       "\t<tr><th scope=col>&lt;chr&gt;</th><th scope=col>&lt;dbl&gt;</th></tr>\n",
       "</thead>\n",
       "<tbody>\n",
       "\t<tr><td>sector       </td><td>0.00001210931</td></tr>\n",
       "\t<tr><td>entidad_res  </td><td>0.85432897914</td></tr>\n",
       "\t<tr><td>municipio_res</td><td>0.85432931551</td></tr>\n",
       "\t<tr><td>fecha_def    </td><td>0.97958504069</td></tr>\n",
       "\t<tr><td>pais_origen  </td><td>0.00105721046</td></tr>\n",
       "</tbody>\n",
       "</table>\n"
      ],
      "text/latex": [
       "A tibble: 5 × 2\n",
       "\\begin{tabular}{ll}\n",
       " variable & missing\\_data\\\\\n",
       " <chr> & <dbl>\\\\\n",
       "\\hline\n",
       "\t sector        & 0.00001210931\\\\\n",
       "\t entidad\\_res   & 0.85432897914\\\\\n",
       "\t municipio\\_res & 0.85432931551\\\\\n",
       "\t fecha\\_def     & 0.97958504069\\\\\n",
       "\t pais\\_origen   & 0.00105721046\\\\\n",
       "\\end{tabular}\n"
      ],
      "text/markdown": [
       "\n",
       "A tibble: 5 × 2\n",
       "\n",
       "| variable &lt;chr&gt; | missing_data &lt;dbl&gt; |\n",
       "|---|---|\n",
       "| sector        | 0.00001210931 |\n",
       "| entidad_res   | 0.85432897914 |\n",
       "| municipio_res | 0.85432931551 |\n",
       "| fecha_def     | 0.97958504069 |\n",
       "| pais_origen   | 0.00105721046 |\n",
       "\n"
      ],
      "text/plain": [
       "  variable      missing_data \n",
       "1 sector        0.00001210931\n",
       "2 entidad_res   0.85432897914\n",
       "3 municipio_res 0.85432931551\n",
       "4 fecha_def     0.97958504069\n",
       "5 pais_origen   0.00105721046"
      ]
     },
     "metadata": {},
     "output_type": "display_data"
    }
   ],
   "source": [
    "options(scipen=999)#quito notación científica\n",
    "missing_data<-data.frame(missing_data) \n",
    "missing_data<-add_rownames(missing_data, var = \"variable\")\n",
    "\n",
    "#imprimo solo las variables con nas en porcentaje\n",
    "missing_data %>% \n",
    "filter(missing_data>0)%>%\n",
    "mutate(missing_data= missing_data/nrow(data))"
   ]
  },
  {
   "cell_type": "markdown",
   "id": "a5b7808e",
   "metadata": {},
   "source": [
    "Lo primero que notamos es que las variables entidad_res y municipio_res cuentan con una alta proporción de valroes faltantes. De igual manera, la fecha de defunción que probablemente será menos problemática pues podenmos hacer un supuesto bastante creible de que solo tienen valor aquellas personas que han perecido. En cuanto a sector y país de origne, los missing values realmente son muy pocos y podemos prescindir de dichas observaciones.\n",
    "\n",
    "## Clases"
   ]
  },
  {
   "cell_type": "code",
   "execution_count": 291,
   "id": "63c99e96",
   "metadata": {},
   "outputs": [
    {
     "data": {
      "text/plain": [
       "       X           fecha_actualizacion id_registro           origen         \n",
       " Min.   :      1   Length:2972918      Length:2972918     Length:2972918    \n",
       " 1st Qu.: 743230   Class :character    Class :character   Class :character  \n",
       " Median :1486460   Mode  :character    Mode  :character   Mode  :character  \n",
       " Mean   :1486460                                                            \n",
       " 3rd Qu.:2229689                                                            \n",
       " Max.   :2972918                                                            \n",
       "    sector           entidad_um            sexo           entidad_nac       \n",
       " Length:2972918     Length:2972918     Length:2972918     Length:2972918    \n",
       " Class :character   Class :character   Class :character   Class :character  \n",
       " Mode  :character   Mode  :character   Mode  :character   Mode  :character  \n",
       "                                                                            \n",
       "                                                                            \n",
       "                                                                            \n",
       " entidad_res        municipio_res      tipo_paciente      fecha_ingreso     \n",
       " Length:2972918     Length:2972918     Length:2972918     Length:2972918    \n",
       " Class :character   Class :character   Class :character   Class :character  \n",
       " Mode  :character   Mode  :character   Mode  :character   Mode  :character  \n",
       "                                                                            \n",
       "                                                                            \n",
       "                                                                            \n",
       " fecha_sintomas      fecha_def           intubado           neumonia        \n",
       " Length:2972918     Length:2972918     Length:2972918     Length:2972918    \n",
       " Class :character   Class :character   Class :character   Class :character  \n",
       " Mode  :character   Mode  :character   Mode  :character   Mode  :character  \n",
       "                                                                            \n",
       "                                                                            \n",
       "                                                                            \n",
       "      edad        nacionalidad         embarazo         habla_lengua_indig\n",
       " Min.   :  0.00   Length:2972918     Length:2972918     Length:2972918    \n",
       " 1st Qu.: 28.00   Class :character   Class :character   Class :character  \n",
       " Median : 39.00   Mode  :character   Mode  :character   Mode  :character  \n",
       " Mean   : 40.14                                                           \n",
       " 3rd Qu.: 52.00                                                           \n",
       " Max.   :121.00                                                           \n",
       "   indigena           diabetes             epoc               asma          \n",
       " Length:2972918     Length:2972918     Length:2972918     Length:2972918    \n",
       " Class :character   Class :character   Class :character   Class :character  \n",
       " Mode  :character   Mode  :character   Mode  :character   Mode  :character  \n",
       "                                                                            \n",
       "                                                                            \n",
       "                                                                            \n",
       "   inmusupr         hipertension         otra_com         cardiovascular    \n",
       " Length:2972918     Length:2972918     Length:2972918     Length:2972918    \n",
       " Class :character   Class :character   Class :character   Class :character  \n",
       " Mode  :character   Mode  :character   Mode  :character   Mode  :character  \n",
       "                                                                            \n",
       "                                                                            \n",
       "                                                                            \n",
       "   obesidad         renal_cronica       tabaquismo         otro_caso        \n",
       " Length:2972918     Length:2972918     Length:2972918     Length:2972918    \n",
       " Class :character   Class :character   Class :character   Class :character  \n",
       " Mode  :character   Mode  :character   Mode  :character   Mode  :character  \n",
       "                                                                            \n",
       "                                                                            \n",
       "                                                                            \n",
       " toma_muestra_lab   resultado_lab      toma_muestra_antigeno resultado_antigeno\n",
       " Length:2972918     Length:2972918     Length:2972918        Length:2972918    \n",
       " Class :character   Class :character   Class :character      Class :character  \n",
       " Mode  :character   Mode  :character   Mode  :character      Mode  :character  \n",
       "                                                                               \n",
       "                                                                               \n",
       "                                                                               \n",
       " clasificacion_final   migrante         pais_nacionalidad  pais_origen       \n",
       " Length:2972918      Length:2972918     Length:2972918     Length:2972918    \n",
       " Class :character    Class :character   Class :character   Class :character  \n",
       " Mode  :character    Mode  :character   Mode  :character   Mode  :character  \n",
       "                                                                             \n",
       "                                                                             \n",
       "                                                                             \n",
       "     uci           \n",
       " Length:2972918    \n",
       " Class :character  \n",
       " Mode  :character  \n",
       "                   \n",
       "                   \n",
       "                   "
      ]
     },
     "metadata": {},
     "output_type": "display_data"
    }
   ],
   "source": [
    "summary(data)"
   ]
  },
  {
   "cell_type": "code",
   "execution_count": 292,
   "id": "4edfe421",
   "metadata": {},
   "outputs": [
    {
     "data": {
      "text/html": [
       "'character'"
      ],
      "text/latex": [
       "'character'"
      ],
      "text/markdown": [
       "'character'"
      ],
      "text/plain": [
       "[1] \"character\""
      ]
     },
     "metadata": {},
     "output_type": "display_data"
    },
    {
     "data": {
      "text/html": [
       "'character'"
      ],
      "text/latex": [
       "'character'"
      ],
      "text/markdown": [
       "'character'"
      ],
      "text/plain": [
       "[1] \"character\""
      ]
     },
     "metadata": {},
     "output_type": "display_data"
    },
    {
     "data": {
      "text/html": [
       "'character'"
      ],
      "text/latex": [
       "'character'"
      ],
      "text/markdown": [
       "'character'"
      ],
      "text/plain": [
       "[1] \"character\""
      ]
     },
     "metadata": {},
     "output_type": "display_data"
    }
   ],
   "source": [
    "#notamos que la gran mayoría de las variables son categóricas.\n",
    "#esto es malo especificamente para las fechas\n",
    "class(data$fecha_def)\n",
    "class(data$fecha_sintomas)\n",
    "class(data$fecha_ingreso)\n"
   ]
  },
  {
   "cell_type": "code",
   "execution_count": 293,
   "id": "a8913765",
   "metadata": {},
   "outputs": [
    {
     "data": {
      "text/html": [
       "<style>\n",
       ".list-inline {list-style: none; margin:0; padding: 0}\n",
       ".list-inline>li {display: inline-block}\n",
       ".list-inline>li:not(:last-child)::after {content: \"\\00b7\"; padding: 0 .5ex}\n",
       "</style>\n",
       "<ol class=list-inline><li>NA</li><li>NA</li><li>NA</li><li>NA</li><li>NA</li><li>NA</li><li>NA</li><li>NA</li><li>NA</li><li>NA</li></ol>\n"
      ],
      "text/latex": [
       "\\begin{enumerate*}\n",
       "\\item NA\n",
       "\\item NA\n",
       "\\item NA\n",
       "\\item NA\n",
       "\\item NA\n",
       "\\item NA\n",
       "\\item NA\n",
       "\\item NA\n",
       "\\item NA\n",
       "\\item NA\n",
       "\\end{enumerate*}\n"
      ],
      "text/markdown": [
       "1. NA\n",
       "2. NA\n",
       "3. NA\n",
       "4. NA\n",
       "5. NA\n",
       "6. NA\n",
       "7. NA\n",
       "8. NA\n",
       "9. NA\n",
       "10. NA\n",
       "\n",
       "\n"
      ],
      "text/plain": [
       " [1] NA NA NA NA NA NA NA NA NA NA"
      ]
     },
     "metadata": {},
     "output_type": "display_data"
    },
    {
     "data": {
      "text/html": [
       "<style>\n",
       ".list-inline {list-style: none; margin:0; padding: 0}\n",
       ".list-inline>li {display: inline-block}\n",
       ".list-inline>li:not(:last-child)::after {content: \"\\00b7\"; padding: 0 .5ex}\n",
       "</style>\n",
       "<ol class=list-inline><li>'2020-10-16'</li><li>'2020-10-15'</li><li>'2020-04-10'</li><li>'2020-10-14'</li><li>'2021-01-10'</li><li>'2020-04-21'</li><li>'2020-10-01'</li><li>'2020-05-16'</li><li>'2020-09-03'</li><li>'2020-10-06'</li></ol>\n"
      ],
      "text/latex": [
       "\\begin{enumerate*}\n",
       "\\item '2020-10-16'\n",
       "\\item '2020-10-15'\n",
       "\\item '2020-04-10'\n",
       "\\item '2020-10-14'\n",
       "\\item '2021-01-10'\n",
       "\\item '2020-04-21'\n",
       "\\item '2020-10-01'\n",
       "\\item '2020-05-16'\n",
       "\\item '2020-09-03'\n",
       "\\item '2020-10-06'\n",
       "\\end{enumerate*}\n"
      ],
      "text/markdown": [
       "1. '2020-10-16'\n",
       "2. '2020-10-15'\n",
       "3. '2020-04-10'\n",
       "4. '2020-10-14'\n",
       "5. '2021-01-10'\n",
       "6. '2020-04-21'\n",
       "7. '2020-10-01'\n",
       "8. '2020-05-16'\n",
       "9. '2020-09-03'\n",
       "10. '2020-10-06'\n",
       "\n",
       "\n"
      ],
      "text/plain": [
       " [1] \"2020-10-16\" \"2020-10-15\" \"2020-04-10\" \"2020-10-14\" \"2021-01-10\"\n",
       " [6] \"2020-04-21\" \"2020-10-01\" \"2020-05-16\" \"2020-09-03\" \"2020-10-06\""
      ]
     },
     "metadata": {},
     "output_type": "display_data"
    },
    {
     "data": {
      "text/html": [
       "<style>\n",
       ".list-inline {list-style: none; margin:0; padding: 0}\n",
       ".list-inline>li {display: inline-block}\n",
       ".list-inline>li:not(:last-child)::after {content: \"\\00b7\"; padding: 0 .5ex}\n",
       "</style>\n",
       "<ol class=list-inline><li>'2020-10-16'</li><li>'2020-10-15'</li><li>'2020-04-16'</li><li>'2020-10-15'</li><li>'2021-01-14'</li><li>'2020-04-26'</li><li>'2020-10-10'</li><li>'2020-05-16'</li><li>'2020-09-08'</li><li>'2020-10-07'</li></ol>\n"
      ],
      "text/latex": [
       "\\begin{enumerate*}\n",
       "\\item '2020-10-16'\n",
       "\\item '2020-10-15'\n",
       "\\item '2020-04-16'\n",
       "\\item '2020-10-15'\n",
       "\\item '2021-01-14'\n",
       "\\item '2020-04-26'\n",
       "\\item '2020-10-10'\n",
       "\\item '2020-05-16'\n",
       "\\item '2020-09-08'\n",
       "\\item '2020-10-07'\n",
       "\\end{enumerate*}\n"
      ],
      "text/markdown": [
       "1. '2020-10-16'\n",
       "2. '2020-10-15'\n",
       "3. '2020-04-16'\n",
       "4. '2020-10-15'\n",
       "5. '2021-01-14'\n",
       "6. '2020-04-26'\n",
       "7. '2020-10-10'\n",
       "8. '2020-05-16'\n",
       "9. '2020-09-08'\n",
       "10. '2020-10-07'\n",
       "\n",
       "\n"
      ],
      "text/plain": [
       " [1] \"2020-10-16\" \"2020-10-15\" \"2020-04-16\" \"2020-10-15\" \"2021-01-14\"\n",
       " [6] \"2020-04-26\" \"2020-10-10\" \"2020-05-16\" \"2020-09-08\" \"2020-10-07\""
      ]
     },
     "metadata": {},
     "output_type": "display_data"
    }
   ],
   "source": [
    "head(data$fecha_def,10)\n",
    "head(data$fecha_sintomas,10)\n",
    "head(data$fecha_ingreso,10)"
   ]
  },
  {
   "cell_type": "code",
   "execution_count": 294,
   "id": "0adaa637",
   "metadata": {},
   "outputs": [],
   "source": [
    "#notamos que el formato de las fechas es AAAA/MM/DD\n",
    "data$fecha_def <- as.Date(data$fecha_def)\n",
    "data$fecha_sintomas <- as.Date(data$fecha_sintomas)\n",
    "data$fecha_ingreso <- as.Date(data$fecha_ingreso)"
   ]
  },
  {
   "cell_type": "markdown",
   "id": "fe578dde",
   "metadata": {},
   "source": [
    "## Conclusiones\n",
    "\n",
    "+ No podemos aprovechar de la mejor manera los datos referentes a la localización geográfica pues son muchísimos missing values y una estrategia de imputación correcta va más allá de los objetivos y alcances del curso.\n",
    "\n",
    "+ Las variables con categóricas y las observaciones son a nivel individuo.\n",
    "\n",
    "+ Convertimos las variables de fecha al formato correcto\n",
    "\n"
   ]
  },
  {
   "cell_type": "markdown",
   "id": "24eea25c",
   "metadata": {},
   "source": [
    "## EDA"
   ]
  },
  {
   "cell_type": "code",
   "execution_count": 295,
   "id": "443975a3",
   "metadata": {},
   "outputs": [],
   "source": [
    "#Podemos hacer una estiamcion y calculo de integral con las fechas\n",
    "\n",
    "sintomas<-data%>% \n",
    "group_by(fecha_sintomas)%>% \n",
    "summarise(cantidad=n())%>%\n",
    "  mutate(cum = cumsum(cantidad))\n",
    "\n",
    "ingreso<-data%>% \n",
    "group_by(fecha_ingreso)%>% \n",
    "summarise(cantidad=n())%>%\n",
    "  mutate(cum = cumsum(cantidad))\n",
    "\n",
    "muerte<-data%>% \n",
    "group_by(fecha_def)%>% \n",
    "summarise(cantidad=n())%>%\n",
    "  mutate(cum = cumsum(cantidad))\n"
   ]
  },
  {
   "cell_type": "code",
   "execution_count": 296,
   "id": "401cbf1a",
   "metadata": {},
   "outputs": [
    {
     "name": "stderr",
     "output_type": "stream",
     "text": [
      "Warning message:\n",
      "“Removed 1 rows containing missing values (position_stack).”\n"
     ]
    },
    {
     "data": {
      "image/png": "[encoded data removed]",
      "text/plain": [
       "plot without title"
      ]
     },
     "metadata": {
      "image/png": {
       "height": 420,
       "width": 420
      }
     },
     "output_type": "display_data"
    }
   ],
   "source": [
    "library(ggplot2)\n",
    "ggplot(data=muerte, aes(x=fecha_def, y=cum)) +\n",
    "  geom_bar(stat=\"identity\")+ggtitle(\"muertos\")"
   ]
  },
  {
   "cell_type": "code",
   "execution_count": 297,
   "id": "a505afac",
   "metadata": {},
   "outputs": [
    {
     "data": {
      "image/png": "[encoded data removed]",
      "text/plain": [
       "plot without title"
      ]
     },
     "metadata": {
      "image/png": {
       "height": 420,
       "width": 420
      }
     },
     "output_type": "display_data"
    }
   ],
   "source": [
    "ggplot(data=sintomas, aes(x=fecha_sintomas, y=cum)) +\n",
    "  geom_bar(stat=\"identity\")+ggtitle(\"Enfermos\")"
   ]
  },
  {
   "cell_type": "code",
   "execution_count": 298,
   "id": "7985371a",
   "metadata": {},
   "outputs": [
    {
     "data": {
      "image/png": "[encoded data removed]",
      "text/plain": [
       "plot without title"
      ]
     },
     "metadata": {
      "image/png": {
       "height": 420,
       "width": 420
      }
     },
     "output_type": "display_data"
    }
   ],
   "source": [
    "ggplot(data=ingreso, aes(x=fecha_ingreso, y=cum)) +\n",
    "  geom_bar(stat=\"identity\")+ggtitle(\"Hospitalizados\")"
   ]
  },
  {
   "cell_type": "markdown",
   "id": "07f82ace",
   "metadata": {},
   "source": [
    "## Feature Engieneering\n"
   ]
  },
  {
   "cell_type": "markdown",
   "id": "a80dc9d2",
   "metadata": {},
   "source": [
    "Creamos las variables relacionadas con el tiempo entre presentar sintomas, ser hospitalizado y perecer."
   ]
  },
  {
   "cell_type": "code",
   "execution_count": 299,
   "id": "a5e6a2c2",
   "metadata": {},
   "outputs": [],
   "source": [
    "##time to hospital\n",
    "data<-data %>% mutate(tiempo_enf_to_hosp=fecha_ingreso-fecha_sintomas)\n",
    "data$tiempo_enf_to_hosp<-as.numeric(data$tiempo_enf_to_hosp)\n",
    "\n",
    "##time to hospital and death\n",
    "data<-data %>% mutate(tiempo_to_death=fecha_def-fecha_ingreso)\n",
    "data$tiempo_to_death<-as.numeric(data$tiempo_to_death)\n",
    "\n",
    "\n",
    "##time from infection to death\n",
    "data<-data %>% mutate(tiempo_inf_death=fecha_def-fecha_sintomas)\n",
    "data$tiempo_inf_death<-as.numeric(data$tiempo_inf_death)"
   ]
  },
  {
   "cell_type": "code",
   "execution_count": 300,
   "id": "5a04953b",
   "metadata": {},
   "outputs": [
    {
     "data": {
      "text/plain": [
       "   Min. 1st Qu.  Median    Mean 3rd Qu.    Max. \n",
       "   0.00    0.00    1.00    2.51    4.00  265.00 "
      ]
     },
     "metadata": {},
     "output_type": "display_data"
    },
    {
     "data": {
      "text/plain": [
       "   Min. 1st Qu.  Median    Mean 3rd Qu.    Max.    NA's \n",
       "  -87.0     2.0     6.0     8.9    12.0   309.0 2912226 "
      ]
     },
     "metadata": {},
     "output_type": "display_data"
    },
    {
     "data": {
      "text/plain": [
       "   Min. 1st Qu.  Median    Mean 3rd Qu.    Max.    NA's \n",
       "  -41.0     7.0    12.0    14.4    19.0   309.0 2912226 "
      ]
     },
     "metadata": {},
     "output_type": "display_data"
    }
   ],
   "source": [
    "summary(data$tiempo_enf_to_hosp)\n",
    "summary(data$tiempo_to_death)\n",
    "summary(data$tiempo_inf_death)"
   ]
  },
  {
   "cell_type": "markdown",
   "id": "ca14ecfa-a981-46eb-9285-36af152c0de9",
   "metadata": {},
   "source": [
    "<h1>ANÁLISIS DE DEFUNCIONES POR SEMANA</h1>"
   ]
  },
  {
   "cell_type": "markdown",
   "id": "b3a9a181-dba4-4c6a-aa10-8eb713e9c2a7",
   "metadata": {},
   "source": [
    "Análisis de número de defunciones por semana. "
   ]
  },
  {
   "cell_type": "code",
   "execution_count": 302,
   "id": "b64dddc8-af6e-4bae-9f03-40e5ceffae0f",
   "metadata": {},
   "outputs": [],
   "source": [
    "year_def <-format(data$fecha_def, format=\"%Y\") #Obtenemos los años de las fechas"
   ]
  },
  {
   "cell_type": "code",
   "execution_count": 303,
   "id": "2ebefbae-f9ea-43fa-b101-465a500432f9",
   "metadata": {},
   "outputs": [],
   "source": [
    "week_def <-format(data$fecha_def, format=\"%V\") #Obtenemos las semanas de las fechas\n"
   ]
  },
  {
   "cell_type": "code",
   "execution_count": 304,
   "id": "5fbef4ac-7638-409a-8299-df1b981db3ae",
   "metadata": {},
   "outputs": [],
   "source": [
    "defun<-data.frame(year_def,week_def, def=data$fecha_def) #creamos un data frame con los años y fechas de las defunciones"
   ]
  },
  {
   "cell_type": "code",
   "execution_count": 305,
   "id": "f053632d-64a7-4359-8740-54a8a11fccc1",
   "metadata": {},
   "outputs": [],
   "source": [
    "df2<-subset(defun, year_def!=\"NA\")# eliminamos los datos en los cuales no hubo defunciones (NA)"
   ]
  },
  {
   "cell_type": "code",
   "execution_count": 306,
   "id": "0f697162-4734-43b9-8ea1-d4588a4d5584",
   "metadata": {},
   "outputs": [],
   "source": [
    "df2[\"def\"] <- 1 #Agregamos una columna de 1's para hacer la suma de defunciones por semana"
   ]
  },
  {
   "cell_type": "code",
   "execution_count": 307,
   "id": "ee03b441-bc91-4206-8826-08209e6569a2",
   "metadata": {},
   "outputs": [
    {
     "data": {
      "text/html": [
       "<table class=\"dataframe\">\n",
       "<caption>A data.frame: 6 × 3</caption>\n",
       "<thead>\n",
       "\t<tr><th></th><th scope=col>year_def</th><th scope=col>week_def</th><th scope=col>def</th></tr>\n",
       "\t<tr><th></th><th scope=col>&lt;chr&gt;</th><th scope=col>&lt;chr&gt;</th><th scope=col>&lt;dbl&gt;</th></tr>\n",
       "</thead>\n",
       "<tbody>\n",
       "\t<tr><th scope=row>20</th><td>2020</td><td>20</td><td>1</td></tr>\n",
       "\t<tr><th scope=row>221</th><td>2020</td><td>15</td><td>1</td></tr>\n",
       "\t<tr><th scope=row>226</th><td>2020</td><td>15</td><td>1</td></tr>\n",
       "\t<tr><th scope=row>228</th><td>2020</td><td>15</td><td>1</td></tr>\n",
       "\t<tr><th scope=row>230</th><td>2020</td><td>15</td><td>1</td></tr>\n",
       "\t<tr><th scope=row>234</th><td>2020</td><td>15</td><td>1</td></tr>\n",
       "</tbody>\n",
       "</table>\n"
      ],
      "text/latex": [
       "A data.frame: 6 × 3\n",
       "\\begin{tabular}{r|lll}\n",
       "  & year\\_def & week\\_def & def\\\\\n",
       "  & <chr> & <chr> & <dbl>\\\\\n",
       "\\hline\n",
       "\t20 & 2020 & 20 & 1\\\\\n",
       "\t221 & 2020 & 15 & 1\\\\\n",
       "\t226 & 2020 & 15 & 1\\\\\n",
       "\t228 & 2020 & 15 & 1\\\\\n",
       "\t230 & 2020 & 15 & 1\\\\\n",
       "\t234 & 2020 & 15 & 1\\\\\n",
       "\\end{tabular}\n"
      ],
      "text/markdown": [
       "\n",
       "A data.frame: 6 × 3\n",
       "\n",
       "| <!--/--> | year_def &lt;chr&gt; | week_def &lt;chr&gt; | def &lt;dbl&gt; |\n",
       "|---|---|---|---|\n",
       "| 20 | 2020 | 20 | 1 |\n",
       "| 221 | 2020 | 15 | 1 |\n",
       "| 226 | 2020 | 15 | 1 |\n",
       "| 228 | 2020 | 15 | 1 |\n",
       "| 230 | 2020 | 15 | 1 |\n",
       "| 234 | 2020 | 15 | 1 |\n",
       "\n"
      ],
      "text/plain": [
       "    year_def week_def def\n",
       "20  2020     20       1  \n",
       "221 2020     15       1  \n",
       "226 2020     15       1  \n",
       "228 2020     15       1  \n",
       "230 2020     15       1  \n",
       "234 2020     15       1  "
      ]
     },
     "metadata": {},
     "output_type": "display_data"
    }
   ],
   "source": [
    "head(df2)"
   ]
  },
  {
   "cell_type": "code",
   "execution_count": 308,
   "id": "a350ce7f-62f4-44d8-b2a5-4ed321d21b58",
   "metadata": {},
   "outputs": [],
   "source": [
    "tibble_df2 <- as_tibble(df2)"
   ]
  },
  {
   "cell_type": "code",
   "execution_count": 309,
   "id": "6fa2786e-8e4f-4cd1-a1ed-384ee3d3cc65",
   "metadata": {
    "tags": []
   },
   "outputs": [
    {
     "data": {
      "text/html": [
       "<table class=\"dataframe\">\n",
       "<caption>A data.frame: 60692 × 3</caption>\n",
       "<thead>\n",
       "\t<tr><th></th><th scope=col>year_def</th><th scope=col>week_def</th><th scope=col>def</th></tr>\n",
       "\t<tr><th></th><th scope=col>&lt;chr&gt;</th><th scope=col>&lt;chr&gt;</th><th scope=col>&lt;dbl&gt;</th></tr>\n",
       "</thead>\n",
       "<tbody>\n",
       "\t<tr><th scope=row>20</th><td>2020</td><td>20</td><td>1</td></tr>\n",
       "\t<tr><th scope=row>221</th><td>2020</td><td>15</td><td>1</td></tr>\n",
       "\t<tr><th scope=row>226</th><td>2020</td><td>15</td><td>1</td></tr>\n",
       "\t<tr><th scope=row>228</th><td>2020</td><td>15</td><td>1</td></tr>\n",
       "\t<tr><th scope=row>230</th><td>2020</td><td>15</td><td>1</td></tr>\n",
       "\t<tr><th scope=row>234</th><td>2020</td><td>15</td><td>1</td></tr>\n",
       "\t<tr><th scope=row>330</th><td>2020</td><td>18</td><td>1</td></tr>\n",
       "\t<tr><th scope=row>415</th><td>2020</td><td>16</td><td>1</td></tr>\n",
       "\t<tr><th scope=row>438</th><td>2020</td><td>15</td><td>1</td></tr>\n",
       "\t<tr><th scope=row>441</th><td>2020</td><td>16</td><td>1</td></tr>\n",
       "\t<tr><th scope=row>454</th><td>2020</td><td>20</td><td>1</td></tr>\n",
       "\t<tr><th scope=row>458</th><td>2020</td><td>15</td><td>1</td></tr>\n",
       "\t<tr><th scope=row>465</th><td>2020</td><td>18</td><td>1</td></tr>\n",
       "\t<tr><th scope=row>472</th><td>2020</td><td>17</td><td>1</td></tr>\n",
       "\t<tr><th scope=row>481</th><td>2020</td><td>15</td><td>1</td></tr>\n",
       "\t<tr><th scope=row>514</th><td>2020</td><td>14</td><td>1</td></tr>\n",
       "\t<tr><th scope=row>546</th><td>2020</td><td>15</td><td>1</td></tr>\n",
       "\t<tr><th scope=row>566</th><td>2020</td><td>15</td><td>1</td></tr>\n",
       "\t<tr><th scope=row>567</th><td>2020</td><td>16</td><td>1</td></tr>\n",
       "\t<tr><th scope=row>596</th><td>2020</td><td>15</td><td>1</td></tr>\n",
       "\t<tr><th scope=row>598</th><td>2020</td><td>14</td><td>1</td></tr>\n",
       "\t<tr><th scope=row>602</th><td>2020</td><td>15</td><td>1</td></tr>\n",
       "\t<tr><th scope=row>619</th><td>2020</td><td>15</td><td>1</td></tr>\n",
       "\t<tr><th scope=row>625</th><td>2020</td><td>15</td><td>1</td></tr>\n",
       "\t<tr><th scope=row>631</th><td>2020</td><td>15</td><td>1</td></tr>\n",
       "\t<tr><th scope=row>643</th><td>2020</td><td>15</td><td>1</td></tr>\n",
       "\t<tr><th scope=row>662</th><td>2020</td><td>16</td><td>1</td></tr>\n",
       "\t<tr><th scope=row>671</th><td>2020</td><td>18</td><td>1</td></tr>\n",
       "\t<tr><th scope=row>684</th><td>2020</td><td>16</td><td>1</td></tr>\n",
       "\t<tr><th scope=row>698</th><td>2020</td><td>16</td><td>1</td></tr>\n",
       "\t<tr><th scope=row>⋮</th><td>⋮</td><td>⋮</td><td>⋮</td></tr>\n",
       "\t<tr><th scope=row>2962007</th><td>2021</td><td>24</td><td>1</td></tr>\n",
       "\t<tr><th scope=row>2962380</th><td>2021</td><td>25</td><td>1</td></tr>\n",
       "\t<tr><th scope=row>2962867</th><td>2021</td><td>25</td><td>1</td></tr>\n",
       "\t<tr><th scope=row>2962983</th><td>2021</td><td>25</td><td>1</td></tr>\n",
       "\t<tr><th scope=row>2964047</th><td>2021</td><td>25</td><td>1</td></tr>\n",
       "\t<tr><th scope=row>2964943</th><td>2021</td><td>25</td><td>1</td></tr>\n",
       "\t<tr><th scope=row>2967323</th><td>2021</td><td>25</td><td>1</td></tr>\n",
       "\t<tr><th scope=row>2967459</th><td>2021</td><td>25</td><td>1</td></tr>\n",
       "\t<tr><th scope=row>2967619</th><td>2021</td><td>25</td><td>1</td></tr>\n",
       "\t<tr><th scope=row>2967620</th><td>2021</td><td>26</td><td>1</td></tr>\n",
       "\t<tr><th scope=row>2968017</th><td>2021</td><td>25</td><td>1</td></tr>\n",
       "\t<tr><th scope=row>2968037</th><td>2021</td><td>25</td><td>1</td></tr>\n",
       "\t<tr><th scope=row>2968066</th><td>2021</td><td>25</td><td>1</td></tr>\n",
       "\t<tr><th scope=row>2968761</th><td>2021</td><td>04</td><td>1</td></tr>\n",
       "\t<tr><th scope=row>2968994</th><td>2021</td><td>25</td><td>1</td></tr>\n",
       "\t<tr><th scope=row>2969374</th><td>2021</td><td>01</td><td>1</td></tr>\n",
       "\t<tr><th scope=row>2969606</th><td>2021</td><td>03</td><td>1</td></tr>\n",
       "\t<tr><th scope=row>2969618</th><td>2021</td><td>02</td><td>1</td></tr>\n",
       "\t<tr><th scope=row>2969869</th><td>2021</td><td>02</td><td>1</td></tr>\n",
       "\t<tr><th scope=row>2970050</th><td>2021</td><td>04</td><td>1</td></tr>\n",
       "\t<tr><th scope=row>2970253</th><td>2021</td><td>02</td><td>1</td></tr>\n",
       "\t<tr><th scope=row>2970263</th><td>2021</td><td>04</td><td>1</td></tr>\n",
       "\t<tr><th scope=row>2970403</th><td>2021</td><td>02</td><td>1</td></tr>\n",
       "\t<tr><th scope=row>2970846</th><td>2021</td><td>02</td><td>1</td></tr>\n",
       "\t<tr><th scope=row>2970881</th><td>2021</td><td>25</td><td>1</td></tr>\n",
       "\t<tr><th scope=row>2970984</th><td>2021</td><td>02</td><td>1</td></tr>\n",
       "\t<tr><th scope=row>2971171</th><td>2021</td><td>03</td><td>1</td></tr>\n",
       "\t<tr><th scope=row>2972111</th><td>2021</td><td>25</td><td>1</td></tr>\n",
       "\t<tr><th scope=row>2972208</th><td>2021</td><td>02</td><td>1</td></tr>\n",
       "\t<tr><th scope=row>2972414</th><td>2021</td><td>25</td><td>1</td></tr>\n",
       "</tbody>\n",
       "</table>\n"
      ],
      "text/latex": [
       "A data.frame: 60692 × 3\n",
       "\\begin{tabular}{r|lll}\n",
       "  & year\\_def & week\\_def & def\\\\\n",
       "  & <chr> & <chr> & <dbl>\\\\\n",
       "\\hline\n",
       "\t20 & 2020 & 20 & 1\\\\\n",
       "\t221 & 2020 & 15 & 1\\\\\n",
       "\t226 & 2020 & 15 & 1\\\\\n",
       "\t228 & 2020 & 15 & 1\\\\\n",
       "\t230 & 2020 & 15 & 1\\\\\n",
       "\t234 & 2020 & 15 & 1\\\\\n",
       "\t330 & 2020 & 18 & 1\\\\\n",
       "\t415 & 2020 & 16 & 1\\\\\n",
       "\t438 & 2020 & 15 & 1\\\\\n",
       "\t441 & 2020 & 16 & 1\\\\\n",
       "\t454 & 2020 & 20 & 1\\\\\n",
       "\t458 & 2020 & 15 & 1\\\\\n",
       "\t465 & 2020 & 18 & 1\\\\\n",
       "\t472 & 2020 & 17 & 1\\\\\n",
       "\t481 & 2020 & 15 & 1\\\\\n",
       "\t514 & 2020 & 14 & 1\\\\\n",
       "\t546 & 2020 & 15 & 1\\\\\n",
       "\t566 & 2020 & 15 & 1\\\\\n",
       "\t567 & 2020 & 16 & 1\\\\\n",
       "\t596 & 2020 & 15 & 1\\\\\n",
       "\t598 & 2020 & 14 & 1\\\\\n",
       "\t602 & 2020 & 15 & 1\\\\\n",
       "\t619 & 2020 & 15 & 1\\\\\n",
       "\t625 & 2020 & 15 & 1\\\\\n",
       "\t631 & 2020 & 15 & 1\\\\\n",
       "\t643 & 2020 & 15 & 1\\\\\n",
       "\t662 & 2020 & 16 & 1\\\\\n",
       "\t671 & 2020 & 18 & 1\\\\\n",
       "\t684 & 2020 & 16 & 1\\\\\n",
       "\t698 & 2020 & 16 & 1\\\\\n",
       "\t⋮ & ⋮ & ⋮ & ⋮\\\\\n",
       "\t2962007 & 2021 & 24 & 1\\\\\n",
       "\t2962380 & 2021 & 25 & 1\\\\\n",
       "\t2962867 & 2021 & 25 & 1\\\\\n",
       "\t2962983 & 2021 & 25 & 1\\\\\n",
       "\t2964047 & 2021 & 25 & 1\\\\\n",
       "\t2964943 & 2021 & 25 & 1\\\\\n",
       "\t2967323 & 2021 & 25 & 1\\\\\n",
       "\t2967459 & 2021 & 25 & 1\\\\\n",
       "\t2967619 & 2021 & 25 & 1\\\\\n",
       "\t2967620 & 2021 & 26 & 1\\\\\n",
       "\t2968017 & 2021 & 25 & 1\\\\\n",
       "\t2968037 & 2021 & 25 & 1\\\\\n",
       "\t2968066 & 2021 & 25 & 1\\\\\n",
       "\t2968761 & 2021 & 04 & 1\\\\\n",
       "\t2968994 & 2021 & 25 & 1\\\\\n",
       "\t2969374 & 2021 & 01 & 1\\\\\n",
       "\t2969606 & 2021 & 03 & 1\\\\\n",
       "\t2969618 & 2021 & 02 & 1\\\\\n",
       "\t2969869 & 2021 & 02 & 1\\\\\n",
       "\t2970050 & 2021 & 04 & 1\\\\\n",
       "\t2970253 & 2021 & 02 & 1\\\\\n",
       "\t2970263 & 2021 & 04 & 1\\\\\n",
       "\t2970403 & 2021 & 02 & 1\\\\\n",
       "\t2970846 & 2021 & 02 & 1\\\\\n",
       "\t2970881 & 2021 & 25 & 1\\\\\n",
       "\t2970984 & 2021 & 02 & 1\\\\\n",
       "\t2971171 & 2021 & 03 & 1\\\\\n",
       "\t2972111 & 2021 & 25 & 1\\\\\n",
       "\t2972208 & 2021 & 02 & 1\\\\\n",
       "\t2972414 & 2021 & 25 & 1\\\\\n",
       "\\end{tabular}\n"
      ],
      "text/markdown": [
       "\n",
       "A data.frame: 60692 × 3\n",
       "\n",
       "| <!--/--> | year_def &lt;chr&gt; | week_def &lt;chr&gt; | def &lt;dbl&gt; |\n",
       "|---|---|---|---|\n",
       "| 20 | 2020 | 20 | 1 |\n",
       "| 221 | 2020 | 15 | 1 |\n",
       "| 226 | 2020 | 15 | 1 |\n",
       "| 228 | 2020 | 15 | 1 |\n",
       "| 230 | 2020 | 15 | 1 |\n",
       "| 234 | 2020 | 15 | 1 |\n",
       "| 330 | 2020 | 18 | 1 |\n",
       "| 415 | 2020 | 16 | 1 |\n",
       "| 438 | 2020 | 15 | 1 |\n",
       "| 441 | 2020 | 16 | 1 |\n",
       "| 454 | 2020 | 20 | 1 |\n",
       "| 458 | 2020 | 15 | 1 |\n",
       "| 465 | 2020 | 18 | 1 |\n",
       "| 472 | 2020 | 17 | 1 |\n",
       "| 481 | 2020 | 15 | 1 |\n",
       "| 514 | 2020 | 14 | 1 |\n",
       "| 546 | 2020 | 15 | 1 |\n",
       "| 566 | 2020 | 15 | 1 |\n",
       "| 567 | 2020 | 16 | 1 |\n",
       "| 596 | 2020 | 15 | 1 |\n",
       "| 598 | 2020 | 14 | 1 |\n",
       "| 602 | 2020 | 15 | 1 |\n",
       "| 619 | 2020 | 15 | 1 |\n",
       "| 625 | 2020 | 15 | 1 |\n",
       "| 631 | 2020 | 15 | 1 |\n",
       "| 643 | 2020 | 15 | 1 |\n",
       "| 662 | 2020 | 16 | 1 |\n",
       "| 671 | 2020 | 18 | 1 |\n",
       "| 684 | 2020 | 16 | 1 |\n",
       "| 698 | 2020 | 16 | 1 |\n",
       "| ⋮ | ⋮ | ⋮ | ⋮ |\n",
       "| 2962007 | 2021 | 24 | 1 |\n",
       "| 2962380 | 2021 | 25 | 1 |\n",
       "| 2962867 | 2021 | 25 | 1 |\n",
       "| 2962983 | 2021 | 25 | 1 |\n",
       "| 2964047 | 2021 | 25 | 1 |\n",
       "| 2964943 | 2021 | 25 | 1 |\n",
       "| 2967323 | 2021 | 25 | 1 |\n",
       "| 2967459 | 2021 | 25 | 1 |\n",
       "| 2967619 | 2021 | 25 | 1 |\n",
       "| 2967620 | 2021 | 26 | 1 |\n",
       "| 2968017 | 2021 | 25 | 1 |\n",
       "| 2968037 | 2021 | 25 | 1 |\n",
       "| 2968066 | 2021 | 25 | 1 |\n",
       "| 2968761 | 2021 | 04 | 1 |\n",
       "| 2968994 | 2021 | 25 | 1 |\n",
       "| 2969374 | 2021 | 01 | 1 |\n",
       "| 2969606 | 2021 | 03 | 1 |\n",
       "| 2969618 | 2021 | 02 | 1 |\n",
       "| 2969869 | 2021 | 02 | 1 |\n",
       "| 2970050 | 2021 | 04 | 1 |\n",
       "| 2970253 | 2021 | 02 | 1 |\n",
       "| 2970263 | 2021 | 04 | 1 |\n",
       "| 2970403 | 2021 | 02 | 1 |\n",
       "| 2970846 | 2021 | 02 | 1 |\n",
       "| 2970881 | 2021 | 25 | 1 |\n",
       "| 2970984 | 2021 | 02 | 1 |\n",
       "| 2971171 | 2021 | 03 | 1 |\n",
       "| 2972111 | 2021 | 25 | 1 |\n",
       "| 2972208 | 2021 | 02 | 1 |\n",
       "| 2972414 | 2021 | 25 | 1 |\n",
       "\n"
      ],
      "text/plain": [
       "        year_def week_def def\n",
       "20      2020     20       1  \n",
       "221     2020     15       1  \n",
       "226     2020     15       1  \n",
       "228     2020     15       1  \n",
       "230     2020     15       1  \n",
       "234     2020     15       1  \n",
       "330     2020     18       1  \n",
       "415     2020     16       1  \n",
       "438     2020     15       1  \n",
       "441     2020     16       1  \n",
       "454     2020     20       1  \n",
       "458     2020     15       1  \n",
       "465     2020     18       1  \n",
       "472     2020     17       1  \n",
       "481     2020     15       1  \n",
       "514     2020     14       1  \n",
       "546     2020     15       1  \n",
       "566     2020     15       1  \n",
       "567     2020     16       1  \n",
       "596     2020     15       1  \n",
       "598     2020     14       1  \n",
       "602     2020     15       1  \n",
       "619     2020     15       1  \n",
       "625     2020     15       1  \n",
       "631     2020     15       1  \n",
       "643     2020     15       1  \n",
       "662     2020     16       1  \n",
       "671     2020     18       1  \n",
       "684     2020     16       1  \n",
       "698     2020     16       1  \n",
       "⋮       ⋮        ⋮        ⋮  \n",
       "2962007 2021     24       1  \n",
       "2962380 2021     25       1  \n",
       "2962867 2021     25       1  \n",
       "2962983 2021     25       1  \n",
       "2964047 2021     25       1  \n",
       "2964943 2021     25       1  \n",
       "2967323 2021     25       1  \n",
       "2967459 2021     25       1  \n",
       "2967619 2021     25       1  \n",
       "2967620 2021     26       1  \n",
       "2968017 2021     25       1  \n",
       "2968037 2021     25       1  \n",
       "2968066 2021     25       1  \n",
       "2968761 2021     04       1  \n",
       "2968994 2021     25       1  \n",
       "2969374 2021     01       1  \n",
       "2969606 2021     03       1  \n",
       "2969618 2021     02       1  \n",
       "2969869 2021     02       1  \n",
       "2970050 2021     04       1  \n",
       "2970253 2021     02       1  \n",
       "2970263 2021     04       1  \n",
       "2970403 2021     02       1  \n",
       "2970846 2021     02       1  \n",
       "2970881 2021     25       1  \n",
       "2970984 2021     02       1  \n",
       "2971171 2021     03       1  \n",
       "2972111 2021     25       1  \n",
       "2972208 2021     02       1  \n",
       "2972414 2021     25       1  "
      ]
     },
     "metadata": {},
     "output_type": "display_data"
    }
   ],
   "source": [
    "select(df2, year_def, week_def, def) #seleccionamos algunas columnas de importancia"
   ]
  },
  {
   "cell_type": "code",
   "execution_count": 310,
   "id": "afa3c560-7fbe-4fbf-b864-2de6cb780334",
   "metadata": {
    "tags": []
   },
   "outputs": [
    {
     "name": "stderr",
     "output_type": "stream",
     "text": [
      "`summarise()` has grouped output by 'year_def'. You can override using the `.groups` argument.\n",
      "\n"
     ]
    }
   ],
   "source": [
    "df3<-df2 %>%\n",
    "  group_by(year_def, week_def) %>%\n",
    "  summarize(sum_def = sum(def, na.rm = TRUE))\n",
    "\n",
    "#df3 contiene la suma de defunciones por semana"
   ]
  },
  {
   "cell_type": "code",
   "execution_count": 311,
   "id": "790bb563-f17f-41c7-b550-b10548d0a932",
   "metadata": {
    "tags": []
   },
   "outputs": [],
   "source": [
    "df4<-subset(df3,  week_def!=\"53\") #eliminamos datos que no son lógicos, como semana 53 del año 2021"
   ]
  },
  {
   "cell_type": "code",
   "execution_count": 312,
   "id": "873184cd-5b6a-494b-bbd6-dfe2159d4e5e",
   "metadata": {
    "tags": []
   },
   "outputs": [],
   "source": [
    "df5<-df4[1:(76),] #eliminamos última semana para después hacer una estimación de la misma, el df5 será el que utilizaremos"
   ]
  },
  {
   "cell_type": "code",
   "execution_count": 313,
   "id": "4e7d36ec-3654-4c24-9bd9-b9ffc9beeffd",
   "metadata": {
    "tags": []
   },
   "outputs": [],
   "source": [
    "sem<-df5$week_def\n",
    "muertes<-df5$sum_def\n",
    "semana<-as.double(sem)\n",
    "anio<-df5$year_def\n",
    "\n",
    "df6<-data.frame(anio,semana,muertes) #A las semanas del año 2021, le agregamos 52 para diferenciarlas\n",
    "a <- 1:24\n",
    "for (i in seq_along(a)) {\n",
    "  df6[52+i,2] <- df6[i,2]+52\n",
    "}\n",
    "\n"
   ]
  },
  {
   "cell_type": "markdown",
   "id": "af1c710c-37b5-4ab5-b5b8-8a7dfef49b2c",
   "metadata": {
    "tags": []
   },
   "source": [
    "<h2>Número máximo, mediana y promedio de muertes por semana:</h2>"
   ]
  },
  {
   "cell_type": "code",
   "execution_count": 314,
   "id": "d6cdfdf5-395d-4ff7-88db-67ec681306df",
   "metadata": {
    "tags": []
   },
   "outputs": [
    {
     "data": {
      "text/plain": [
       "     anio               semana         muertes      \n",
       " Length:76          Min.   : 1.00   Min.   :   1.0  \n",
       " Class :character   1st Qu.:19.75   1st Qu.: 199.2  \n",
       " Mode  :character   Median :38.50   Median : 641.0  \n",
       "                    Mean   :38.50   Mean   : 770.1  \n",
       "                    3rd Qu.:57.25   3rd Qu.:1139.8  \n",
       "                    Max.   :76.00   Max.   :2464.0  "
      ]
     },
     "metadata": {},
     "output_type": "display_data"
    }
   ],
   "source": [
    "summary(df6) #summary de muertes por semana"
   ]
  },
  {
   "cell_type": "markdown",
   "id": "b2288f3e-10f8-485f-8bd5-96d557af7fde",
   "metadata": {
    "tags": []
   },
   "source": [
    "<h2>Gráfico de disperción de muertes por semana, diferenciado por año</h2>"
   ]
  },
  {
   "cell_type": "code",
   "execution_count": 315,
   "id": "920e49f8-2cc5-4db3-b2a3-1c3cb2d56a95",
   "metadata": {
    "tags": []
   },
   "outputs": [
    {
     "data": {
      "image/png": "[encoded data removed]",
      "text/plain": [
       "plot without title"
      ]
     },
     "metadata": {
      "image/png": {
       "height": 420,
       "width": 420
      }
     },
     "output_type": "display_data"
    }
   ],
   "source": [
    "ggplot(df6) + geom_point(aes(x=semana,y=muertes, color=anio))\n",
    "\n"
   ]
  },
  {
   "cell_type": "code",
   "execution_count": 316,
   "id": "46732643-972e-4401-86f7-be42f627a943",
   "metadata": {
    "tags": []
   },
   "outputs": [],
   "source": [
    "x1<-df6$semana\n",
    "y1<-df6$muertes\n",
    "\n",
    "p1<-polyfit(x1,y1,1) #polinomio grado 1\n",
    "p2<-polyfit(x1,y1,2) #polinomio grado 2\n",
    "p3<-polyfit(x1,y1,3) #polinomio grado 3\n",
    "p6<-polyfit(x1,y1,6) #polinomio grado 6\n"
   ]
  },
  {
   "cell_type": "markdown",
   "id": "742d7652-0ee4-4359-ad20-a960b920a630",
   "metadata": {
    "tags": []
   },
   "source": [
    "<h2>Interpolación grado 1</h2>"
   ]
  },
  {
   "cell_type": "code",
   "execution_count": 317,
   "id": "123b6d26-b01e-40a8-847e-1cde8c71c705",
   "metadata": {
    "tags": []
   },
   "outputs": [
    {
     "name": "stderr",
     "output_type": "stream",
     "text": [
      "`geom_smooth()` using method = 'loess' and formula 'y ~ x'\n",
      "\n"
     ]
    },
    {
     "data": {
      "image/png": "[encoded data removed]",
      "text/plain": [
       "plot without title"
      ]
     },
     "metadata": {
      "image/png": {
       "height": 420,
       "width": 420
      }
     },
     "output_type": "display_data"
    }
   ],
   "source": [
    "df6$approx1 <-polyval(p1,x1)\n",
    "\n",
    "ggplot(df6) + geom_point(aes(x=semana,y=muertes, color=anio))+geom_smooth(aes(x=semana,y=approx1))"
   ]
  },
  {
   "cell_type": "markdown",
   "id": "22d74a62-5024-4196-a835-ea86e8203773",
   "metadata": {
    "tags": []
   },
   "source": [
    "<h2>Interpolación grado 2</h2>"
   ]
  },
  {
   "cell_type": "code",
   "execution_count": 318,
   "id": "d1e9aa3e-adb7-4077-ae17-6db06b3e5283",
   "metadata": {
    "tags": []
   },
   "outputs": [
    {
     "name": "stderr",
     "output_type": "stream",
     "text": [
      "`geom_smooth()` using method = 'loess' and formula 'y ~ x'\n",
      "\n"
     ]
    },
    {
     "data": {
      "image/png": "[encoded data removed]",
      "text/plain": [
       "plot without title"
      ]
     },
     "metadata": {
      "image/png": {
       "height": 420,
       "width": 420
      }
     },
     "output_type": "display_data"
    }
   ],
   "source": [
    "df6$approx2 <-polyval(p2,x1)\n",
    "ggplot(df6) + geom_point(aes(x=semana,y=muertes, color=anio))+geom_smooth(aes(x=semana,y=approx2))"
   ]
  },
  {
   "cell_type": "markdown",
   "id": "64cc3442-86f1-486d-a6f6-193b0e1e3f86",
   "metadata": {
    "tags": []
   },
   "source": [
    "<h2>Interpolación grado 3</h2>"
   ]
  },
  {
   "cell_type": "code",
   "execution_count": 319,
   "id": "5261c28f-915d-43ae-9521-85d8b97d3dd4",
   "metadata": {
    "tags": []
   },
   "outputs": [
    {
     "name": "stderr",
     "output_type": "stream",
     "text": [
      "`geom_smooth()` using method = 'loess' and formula 'y ~ x'\n",
      "\n"
     ]
    },
    {
     "data": {
      "image/png": "[encoded data removed]",
      "text/plain": [
       "plot without title"
      ]
     },
     "metadata": {
      "image/png": {
       "height": 420,
       "width": 420
      }
     },
     "output_type": "display_data"
    }
   ],
   "source": [
    "df6$approx3 <-polyval(p3,x1)\n",
    "ggplot(df6) + geom_point(aes(x=semana,y=muertes, color=anio))+geom_smooth(aes(x=semana,y=approx3))"
   ]
  },
  {
   "cell_type": "markdown",
   "id": "8cd53286-2374-476c-bb3e-5b43f41b739e",
   "metadata": {
    "tags": []
   },
   "source": [
    "<h2>Interpolación grado 6</h2>"
   ]
  },
  {
   "cell_type": "code",
   "execution_count": 320,
   "id": "812e046f-2d57-44b8-a985-da51c9a24f08",
   "metadata": {
    "tags": []
   },
   "outputs": [
    {
     "name": "stderr",
     "output_type": "stream",
     "text": [
      "`geom_smooth()` using method = 'loess' and formula 'y ~ x'\n",
      "\n"
     ]
    },
    {
     "data": {
      "image/png": "[encoded data removed]",
      "text/plain": [
       "plot without title"
      ]
     },
     "metadata": {
      "image/png": {
       "height": 420,
       "width": 420
      }
     },
     "output_type": "display_data"
    }
   ],
   "source": [
    "df6$approx6 <-polyval(p6,x1)\n",
    "ggplot(df6) + geom_point(aes(x=semana,y=muertes, color=anio))+geom_smooth(aes(x=semana,y=approx6))"
   ]
  },
  {
   "cell_type": "markdown",
   "id": "8f95bdc4-4bb8-4daa-b619-e2f8c9c3be17",
   "metadata": {},
   "source": [
    "<h2>Interpolación con Spline 6</h2>"
   ]
  },
  {
   "cell_type": "code",
   "execution_count": 321,
   "id": "759ff4f5-faed-47c4-a7df-8e1d4ec79f47",
   "metadata": {},
   "outputs": [
    {
     "data": {
      "text/html": [
       "'z'"
      ],
      "text/latex": [
       "'z'"
      ],
      "text/markdown": [
       "'z'"
      ],
      "text/plain": [
       "[1] \"z\""
      ]
     },
     "metadata": {},
     "output_type": "display_data"
    }
   ],
   "source": [
    "#SPLINE\n",
    "f <- splinefun(x1, y1)\n",
    "ls(envir = environment(f))\n",
    "splinecoef <- get(\"z\", envir = environment(f))\n"
   ]
  },
  {
   "cell_type": "code",
   "execution_count": 322,
   "id": "309364fe-fd46-4e29-b356-8b1f4a70b3db",
   "metadata": {},
   "outputs": [
    {
     "name": "stderr",
     "output_type": "stream",
     "text": [
      "`geom_smooth()` using method = 'loess' and formula 'y ~ x'\n",
      "\n"
     ]
    },
    {
     "data": {
      "image/png": "[encoded data removed]",
      "text/plain": [
       "plot without title"
      ]
     },
     "metadata": {
      "image/png": {
       "height": 420,
       "width": 420
      }
     },
     "output_type": "display_data"
    }
   ],
   "source": [
    "df6$approxspline <-f(x1)\n",
    "ggplot(df6) + geom_point(aes(x=semana,y=muertes, color=anio))+geom_smooth(aes(x=semana,y=approxspline))\n"
   ]
  },
  {
   "cell_type": "markdown",
   "id": "1aa4f1db-7bc4-4e27-b8cf-21e69148cb52",
   "metadata": {
    "tags": []
   },
   "source": [
    "<h2> Estimación de muertes en semana 77 con polinomio g1,g2,g3,g6 y spline</h2>"
   ]
  },
  {
   "cell_type": "markdown",
   "id": "924f69ec-b766-4ec1-8300-e710cb31608f",
   "metadata": {},
   "source": [
    "Vamos a hacer una extrapolación del número de muertes en la semana 77. Es decir, queremos, con base en nuestros modelos, predecir el número de muertos en la semana 77. "
   ]
  },
  {
   "cell_type": "code",
   "execution_count": 323,
   "id": "983fe837-6923-4c7b-925b-5e24a4e49df3",
   "metadata": {
    "tags": []
   },
   "outputs": [
    {
     "name": "stdout",
     "output_type": "stream",
     "text": [
      "[1] 1043.965\n",
      "[1] 195.5798\n",
      "[1] -113.0184\n",
      "[1] 982.5259\n",
      "[1] -47.65576\n"
     ]
    }
   ],
   "source": [
    "Est_p1<-polyval(p1,77)\n",
    "Est_p2<-polyval(p2,77)\n",
    "Est_p3<-polyval(p3,77)\n",
    "Est_p6<-polyval(p6,77)\n",
    "Est_spline<-f(77)\n",
    "\n",
    "print(Est_p1)\n",
    "print(Est_p2)\n",
    "print(Est_p3)\n",
    "print(Est_p6)\n",
    "print(Est_spline)"
   ]
  },
  {
   "cell_type": "code",
   "execution_count": 325,
   "id": "e85a7588-23eb-4182-aae6-8b34f585978a",
   "metadata": {},
   "outputs": [
    {
     "name": "stdout",
     "output_type": "stream",
     "text": [
      "[1] 118\n"
     ]
    }
   ],
   "source": [
    "print(df4$sum_def[77])"
   ]
  },
  {
   "cell_type": "markdown",
   "id": "1cf97c14-ead4-4b38-a42b-e3b2b98e4258",
   "metadata": {},
   "source": [
    "La semana 77 tuvo 118 defunciones, por lo cual, el modelo que mejor extrapoló nuestra observación en este caso, fue el modelo del polinomio grado 2. "
   ]
  },
  {
   "cell_type": "markdown",
   "id": "14ac9699-6b5d-41d3-9529-bd6c64207660",
   "metadata": {
    "tags": []
   },
   "source": [
    "**Definimos la función para el Error cuadrático medio de nuestras estimaciones:**"
   ]
  },
  {
   "cell_type": "code",
   "execution_count": 326,
   "id": "17dca908-d64d-48ae-84f9-67480679a334",
   "metadata": {
    "tags": []
   },
   "outputs": [],
   "source": [
    "M_S_E <- function(est, obj) {\n",
    "    sqsum=0\n",
    "  for(i in 1:length(est)) {\n",
    "    sqsum<-(obj[i]-est[i])**2+sqsum\n",
    "    ecm<-sqsum/length(est)\n",
    "  }\n",
    "    print(ecm)\n",
    "}\n"
   ]
  },
  {
   "cell_type": "code",
   "execution_count": 327,
   "id": "16f3ebd3-aff8-4874-b359-ad4438fed711",
   "metadata": {
    "tags": []
   },
   "outputs": [
    {
     "name": "stdout",
     "output_type": "stream",
     "text": [
      "[1] 388691\n",
      "[1] 255668.8\n",
      "[1] 244051.9\n",
      "[1] 97094.37\n",
      "[1] 0\n"
     ]
    }
   ],
   "source": [
    "ECM_p1<-M_S_E(df6$approx1,df6$muertes)# ECM PARA POLINOMIO G1\n",
    "ECM_p2<-M_S_E(df6$approx2,df6$muertes)# ECM PARA POLINOMIO G2\n",
    "ECM_p3<-M_S_E(df6$approx3,df6$muertes)# ECM PARA POLINOMIO G3\n",
    "ECM_p6<-M_S_E(df6$approx6,df6$muertes)# ECM PARA POLINOMIO G6\n",
    "ECM_spline<-M_S_E(df6$approxspline,df6$muertes)# ECM PARA SPLINE"
   ]
  },
  {
   "cell_type": "markdown",
   "id": "975bb720-ad04-4b12-9b24-99a584aaaf89",
   "metadata": {
    "tags": []
   },
   "source": [
    "El error cuadrático medio lo podemos obtener con la función de min():"
   ]
  },
  {
   "cell_type": "code",
   "execution_count": 328,
   "id": "8dc4562f-947e-446d-8196-452af475f31b",
   "metadata": {
    "tags": []
   },
   "outputs": [
    {
     "data": {
      "text/html": [
       "0"
      ],
      "text/latex": [
       "0"
      ],
      "text/markdown": [
       "0"
      ],
      "text/plain": [
       "[1] 0"
      ]
     },
     "metadata": {},
     "output_type": "display_data"
    }
   ],
   "source": [
    "min(ECM_p1,ECM_p2,ECM_p3,ECM_p6,ECM_spline)"
   ]
  },
  {
   "cell_type": "markdown",
   "id": "2aa491e1-c43e-4854-9358-d9cdc3d6f9da",
   "metadata": {
    "tags": []
   },
   "source": [
    "*Concluimos que la mejor estimación para nuestro modelo, es la del spline.*"
   ]
  },
  {
   "cell_type": "markdown",
   "id": "67fece1b-f17d-47a9-a430-a795a8f927d0",
   "metadata": {},
   "source": [
    "<h2>Estimación de integral con polinomio grado 6</h2>"
   ]
  },
  {
   "cell_type": "markdown",
   "id": "3d076833-a153-45e1-bbb2-310f3e9544ed",
   "metadata": {},
   "source": [
    "Necesitamos conocer el número de defunciones de la semana 1 a la 76.\n",
    "Supongamos que no conocemos el número de defunciones por semana, por lo cual, debemos de estimarlo a partir de la función obtenida de la interpolación del polinomio grado 6.  "
   ]
  },
  {
   "cell_type": "code",
   "execution_count": 329,
   "id": "779d4034-5cad-4ab9-ac1c-3215b302c0a9",
   "metadata": {},
   "outputs": [
    {
     "data": {
      "image/png": "[encoded data removed]",
      "text/plain": [
       "plot without title"
      ]
     },
     "metadata": {
      "image/png": {
       "height": 420,
       "width": 420
      }
     },
     "output_type": "display_data"
    }
   ],
   "source": [
    "eq1 = function(x){(0.00000606019424051342*x^6)-(0.00140040473599997*x^5)+(0.121907555490365*x^4)-(4.94516796308746*x^3)+(92.5593257205104*x^2)-(638.201246371754*x)+(1064.09435543837)}\n",
    "# la eq1 tiene los coeficientes del polinomio de grado 6 que se utilizaron para la interpolación.\n",
    "plot(1:76,eq1(1:76))"
   ]
  },
  {
   "cell_type": "code",
   "execution_count": 330,
   "id": "18d5e11d-6bee-45ea-8780-d46c1e55869b",
   "metadata": {},
   "outputs": [
    {
     "data": {
      "text/html": [
       "57939.7448637343"
      ],
      "text/latex": [
       "57939.7448637343"
      ],
      "text/markdown": [
       "57939.7448637343"
      ],
      "text/plain": [
       "[1] 57939.74"
      ]
     },
     "metadata": {},
     "output_type": "display_data"
    }
   ],
   "source": [
    "n<-6\n",
    "a<-1\n",
    "b<-76\n",
    "f<- function(x){(0.00000606019424051342*x^6)-(0.00140040473599997*x^5)+(0.121907555490365*x^4)-(4.94516796308746*x^3)+(92.5593257205104*x^2)-(638.201246371754*x)+(1064.09435543837)}\n",
    "cc <- gaussLegendre(n,a,b)\n",
    "Q <- sum(cc$w * f(cc$x))\n",
    "Q"
   ]
  },
  {
   "cell_type": "code",
   "execution_count": 331,
   "id": "0dbb903e-bb9c-4392-87e2-6076eb9479ab",
   "metadata": {},
   "outputs": [
    {
     "data": {
      "text/plain": [
       "57939.74 with absolute error < 0.00000000069"
      ]
     },
     "metadata": {},
     "output_type": "display_data"
    }
   ],
   "source": [
    "integral<-integrate(f, a, b)\n",
    "integral"
   ]
  },
  {
   "cell_type": "markdown",
   "id": "749952d9-c1aa-4fd2-bc85-c376237a83ba",
   "metadata": {},
   "source": [
    "Si comparamos el valor de nuestra estimación de la integral, con el valor de la integral real, tenemos que el error relativo de nuestra estimación de la integral es:"
   ]
  },
  {
   "cell_type": "code",
   "execution_count": 332,
   "id": "d972a502-1448-40d8-b43b-83e5a952cdcf",
   "metadata": {},
   "outputs": [
    {
     "data": {
      "text/html": [
       "0.00000839447031868536"
      ],
      "text/latex": [
       "0.00000839447031868536"
      ],
      "text/markdown": [
       "0.00000839447031868536"
      ],
      "text/plain": [
       "[1] 0.00000839447"
      ]
     },
     "metadata": {},
     "output_type": "display_data"
    }
   ],
   "source": [
    "error_reltivo_estimacion <- abs((Q-57939.74)/57939.74) *(100)\n",
    "error_reltivo_estimacion"
   ]
  },
  {
   "cell_type": "markdown",
   "id": "b1484181-f931-4aa9-8a55-71c404244e13",
   "metadata": {},
   "source": [
    "El error de estimación es muy bajo, es del 0.0000084%"
   ]
  },
  {
   "cell_type": "markdown",
   "id": "ed4732c2-95de-493f-b8cb-226dcbab5c97",
   "metadata": {},
   "source": [
    "Por otro lado, si comparamos el valor de nuestra estimación, contra el valor real del total de suma de defunciones de nuestra base de datos, podemos obtener error relativo de nuestra aproximación, dado que "
   ]
  },
  {
   "cell_type": "code",
   "execution_count": 333,
   "id": "5d5499a2-223f-45fa-bcd0-be1a73bd0cb3",
   "metadata": {},
   "outputs": [],
   "source": [
    "num_def <-sum(df2$def) # Número total de defunciones"
   ]
  },
  {
   "cell_type": "code",
   "execution_count": 334,
   "id": "2f20d3e0-1c5a-48e5-8a38-777b0c52d7fb",
   "metadata": {},
   "outputs": [
    {
     "data": {
      "text/html": [
       "4.5347906417085"
      ],
      "text/latex": [
       "4.5347906417085"
      ],
      "text/markdown": [
       "4.5347906417085"
      ],
      "text/plain": [
       "[1] 4.534791"
      ]
     },
     "metadata": {},
     "output_type": "display_data"
    }
   ],
   "source": [
    "error_reltivo_totalDef <- abs((Q-num_def)/num_def) *(100)\n",
    "error_reltivo_totalDef"
   ]
  },
  {
   "cell_type": "markdown",
   "id": "0e49d9aa-b1e3-42b7-806c-c8a485561b97",
   "metadata": {},
   "source": [
    "El error relativo de nuestra estimación de defunciones totales es del 4.5347%"
   ]
  },
  {
   "cell_type": "markdown",
   "id": "06ce9fda-bb6f-4835-ab8b-d31370572b5e",
   "metadata": {},
   "source": [
    "<h2>Data Frame de variables nominales</h2>"
   ]
  },
  {
   "cell_type": "code",
   "execution_count": 335,
   "id": "ffa109c5-19f2-4e1e-a321-45fad708e70b",
   "metadata": {},
   "outputs": [],
   "source": [
    "df8<-select(data, sexo, tipo_paciente,intubado,fecha_def,neumonia,edad,diabetes,epoc,asma,inmusupr,hipertension,obesidad,renal_cronica,tabaquismo)"
   ]
  },
  {
   "cell_type": "code",
   "execution_count": 336,
   "id": "7ec69152-3882-4693-934f-0acd40f13200",
   "metadata": {},
   "outputs": [
    {
     "data": {
      "text/html": [
       "<table class=\"dataframe\">\n",
       "<caption>A data.frame: 6 × 14</caption>\n",
       "<thead>\n",
       "\t<tr><th></th><th scope=col>sexo</th><th scope=col>tipo_paciente</th><th scope=col>intubado</th><th scope=col>fecha_def</th><th scope=col>neumonia</th><th scope=col>edad</th><th scope=col>diabetes</th><th scope=col>epoc</th><th scope=col>asma</th><th scope=col>inmusupr</th><th scope=col>hipertension</th><th scope=col>obesidad</th><th scope=col>renal_cronica</th><th scope=col>tabaquismo</th></tr>\n",
       "\t<tr><th></th><th scope=col>&lt;chr&gt;</th><th scope=col>&lt;chr&gt;</th><th scope=col>&lt;chr&gt;</th><th scope=col>&lt;date&gt;</th><th scope=col>&lt;chr&gt;</th><th scope=col>&lt;int&gt;</th><th scope=col>&lt;chr&gt;</th><th scope=col>&lt;chr&gt;</th><th scope=col>&lt;chr&gt;</th><th scope=col>&lt;chr&gt;</th><th scope=col>&lt;chr&gt;</th><th scope=col>&lt;chr&gt;</th><th scope=col>&lt;chr&gt;</th><th scope=col>&lt;chr&gt;</th></tr>\n",
       "</thead>\n",
       "<tbody>\n",
       "\t<tr><th scope=row>1</th><td>HOMBRE</td><td>AMBULATORIO</td><td>NO APLICA</td><td>NA</td><td>NO</td><td>41</td><td>NO</td><td>NO</td><td>NO</td><td>NO</td><td>NO</td><td>NO</td><td>NO</td><td>NO</td></tr>\n",
       "\t<tr><th scope=row>2</th><td>MUJER </td><td>AMBULATORIO</td><td>NO APLICA</td><td>NA</td><td>NO</td><td>40</td><td>NO</td><td>NO</td><td>NO</td><td>NO</td><td>NO</td><td>NO</td><td>NO</td><td>NO</td></tr>\n",
       "\t<tr><th scope=row>3</th><td>HOMBRE</td><td>AMBULATORIO</td><td>NO APLICA</td><td>NA</td><td>NO</td><td>34</td><td>NO</td><td>SI</td><td>SI</td><td>NO</td><td>NO</td><td>NO</td><td>NO</td><td>NO</td></tr>\n",
       "\t<tr><th scope=row>4</th><td>MUJER </td><td>AMBULATORIO</td><td>NO APLICA</td><td>NA</td><td>NO</td><td>60</td><td>NO</td><td>NO</td><td>NO</td><td>NO</td><td>NO</td><td>SI</td><td>NO</td><td>NO</td></tr>\n",
       "\t<tr><th scope=row>5</th><td>MUJER </td><td>AMBULATORIO</td><td>NO APLICA</td><td>NA</td><td>NO</td><td>20</td><td>NO</td><td>NO</td><td>NO</td><td>NO</td><td>NO</td><td>NO</td><td>NO</td><td>NO</td></tr>\n",
       "\t<tr><th scope=row>6</th><td>MUJER </td><td>AMBULATORIO</td><td>NO APLICA</td><td>NA</td><td>NO</td><td>40</td><td>NO</td><td>NO</td><td>NO</td><td>NO</td><td>NO</td><td>NO</td><td>NO</td><td>NO</td></tr>\n",
       "</tbody>\n",
       "</table>\n"
      ],
      "text/latex": [
       "A data.frame: 6 × 14\n",
       "\\begin{tabular}{r|llllllllllllll}\n",
       "  & sexo & tipo\\_paciente & intubado & fecha\\_def & neumonia & edad & diabetes & epoc & asma & inmusupr & hipertension & obesidad & renal\\_cronica & tabaquismo\\\\\n",
       "  & <chr> & <chr> & <chr> & <date> & <chr> & <int> & <chr> & <chr> & <chr> & <chr> & <chr> & <chr> & <chr> & <chr>\\\\\n",
       "\\hline\n",
       "\t1 & HOMBRE & AMBULATORIO & NO APLICA & NA & NO & 41 & NO & NO & NO & NO & NO & NO & NO & NO\\\\\n",
       "\t2 & MUJER  & AMBULATORIO & NO APLICA & NA & NO & 40 & NO & NO & NO & NO & NO & NO & NO & NO\\\\\n",
       "\t3 & HOMBRE & AMBULATORIO & NO APLICA & NA & NO & 34 & NO & SI & SI & NO & NO & NO & NO & NO\\\\\n",
       "\t4 & MUJER  & AMBULATORIO & NO APLICA & NA & NO & 60 & NO & NO & NO & NO & NO & SI & NO & NO\\\\\n",
       "\t5 & MUJER  & AMBULATORIO & NO APLICA & NA & NO & 20 & NO & NO & NO & NO & NO & NO & NO & NO\\\\\n",
       "\t6 & MUJER  & AMBULATORIO & NO APLICA & NA & NO & 40 & NO & NO & NO & NO & NO & NO & NO & NO\\\\\n",
       "\\end{tabular}\n"
      ],
      "text/markdown": [
       "\n",
       "A data.frame: 6 × 14\n",
       "\n",
       "| <!--/--> | sexo &lt;chr&gt; | tipo_paciente &lt;chr&gt; | intubado &lt;chr&gt; | fecha_def &lt;date&gt; | neumonia &lt;chr&gt; | edad &lt;int&gt; | diabetes &lt;chr&gt; | epoc &lt;chr&gt; | asma &lt;chr&gt; | inmusupr &lt;chr&gt; | hipertension &lt;chr&gt; | obesidad &lt;chr&gt; | renal_cronica &lt;chr&gt; | tabaquismo &lt;chr&gt; |\n",
       "|---|---|---|---|---|---|---|---|---|---|---|---|---|---|---|\n",
       "| 1 | HOMBRE | AMBULATORIO | NO APLICA | NA | NO | 41 | NO | NO | NO | NO | NO | NO | NO | NO |\n",
       "| 2 | MUJER  | AMBULATORIO | NO APLICA | NA | NO | 40 | NO | NO | NO | NO | NO | NO | NO | NO |\n",
       "| 3 | HOMBRE | AMBULATORIO | NO APLICA | NA | NO | 34 | NO | SI | SI | NO | NO | NO | NO | NO |\n",
       "| 4 | MUJER  | AMBULATORIO | NO APLICA | NA | NO | 60 | NO | NO | NO | NO | NO | SI | NO | NO |\n",
       "| 5 | MUJER  | AMBULATORIO | NO APLICA | NA | NO | 20 | NO | NO | NO | NO | NO | NO | NO | NO |\n",
       "| 6 | MUJER  | AMBULATORIO | NO APLICA | NA | NO | 40 | NO | NO | NO | NO | NO | NO | NO | NO |\n",
       "\n"
      ],
      "text/plain": [
       "  sexo   tipo_paciente intubado  fecha_def neumonia edad diabetes epoc asma\n",
       "1 HOMBRE AMBULATORIO   NO APLICA <NA>      NO       41   NO       NO   NO  \n",
       "2 MUJER  AMBULATORIO   NO APLICA <NA>      NO       40   NO       NO   NO  \n",
       "3 HOMBRE AMBULATORIO   NO APLICA <NA>      NO       34   NO       SI   SI  \n",
       "4 MUJER  AMBULATORIO   NO APLICA <NA>      NO       60   NO       NO   NO  \n",
       "5 MUJER  AMBULATORIO   NO APLICA <NA>      NO       20   NO       NO   NO  \n",
       "6 MUJER  AMBULATORIO   NO APLICA <NA>      NO       40   NO       NO   NO  \n",
       "  inmusupr hipertension obesidad renal_cronica tabaquismo\n",
       "1 NO       NO           NO       NO            NO        \n",
       "2 NO       NO           NO       NO            NO        \n",
       "3 NO       NO           NO       NO            NO        \n",
       "4 NO       NO           SI       NO            NO        \n",
       "5 NO       NO           NO       NO            NO        \n",
       "6 NO       NO           NO       NO            NO        "
      ]
     },
     "metadata": {},
     "output_type": "display_data"
    }
   ],
   "source": [
    "head(df8)"
   ]
  },
  {
   "cell_type": "markdown",
   "id": "40e56aa4-2fe5-464e-90eb-442833a13983",
   "metadata": {},
   "source": [
    "Dado que la base de datos, tiene una escala nominal, debemos transformar los datos de cada columna. "
   ]
  },
  {
   "cell_type": "code",
   "execution_count": 337,
   "id": "856a48d3-78b0-44e1-8ece-74bec42eeb33",
   "metadata": {},
   "outputs": [],
   "source": [
    "#df8$sexo<-ifelse(df8$sexo=='MUJER',1,0) #Si es mujer tomará valor de 1, 0 en caso de ser hombre"
   ]
  },
  {
   "cell_type": "code",
   "execution_count": 356,
   "id": "4bca38d8-168b-41f9-af35-acf7ae3894d1",
   "metadata": {},
   "outputs": [],
   "source": [
    "df8$diabetes<-ifelse(df8$diabetes=='NO',0,1)\n",
    "df8$epoc<-ifelse(df8$epoc=='NO',0,1)\n",
    "df8$asma<-ifelse(df8$asma=='NO',0,1)\n",
    "df8$inmusupr<-ifelse(df8$inmusupr=='NO',0,1)\n",
    "df8$hipertension<-ifelse(df8$hipertension=='NO',0,1)\n",
    "df8$obesidad<-ifelse(df8$obesidad=='NO',0,1)\n",
    "df8$renal_cronica<-ifelse(df8$renal_cronica=='NO',0,1)\n",
    "df8$tabaquismo<-ifelse(df8$tabaquismo=='NO',0,1)\n"
   ]
  },
  {
   "cell_type": "code",
   "execution_count": 357,
   "id": "70d9eb0c-a0a4-48b5-bff1-0f0e08993084",
   "metadata": {},
   "outputs": [
    {
     "data": {
      "text/html": [
       "<table class=\"dataframe\">\n",
       "<caption>A data.frame: 6 × 14</caption>\n",
       "<thead>\n",
       "\t<tr><th></th><th scope=col>sexo</th><th scope=col>tipo_paciente</th><th scope=col>intubado</th><th scope=col>fecha_def</th><th scope=col>neumonia</th><th scope=col>edad</th><th scope=col>diabetes</th><th scope=col>epoc</th><th scope=col>asma</th><th scope=col>inmusupr</th><th scope=col>hipertension</th><th scope=col>obesidad</th><th scope=col>renal_cronica</th><th scope=col>tabaquismo</th></tr>\n",
       "\t<tr><th></th><th scope=col>&lt;chr&gt;</th><th scope=col>&lt;chr&gt;</th><th scope=col>&lt;chr&gt;</th><th scope=col>&lt;chr&gt;</th><th scope=col>&lt;chr&gt;</th><th scope=col>&lt;int&gt;</th><th scope=col>&lt;dbl&gt;</th><th scope=col>&lt;dbl&gt;</th><th scope=col>&lt;dbl&gt;</th><th scope=col>&lt;dbl&gt;</th><th scope=col>&lt;dbl&gt;</th><th scope=col>&lt;dbl&gt;</th><th scope=col>&lt;dbl&gt;</th><th scope=col>&lt;dbl&gt;</th></tr>\n",
       "</thead>\n",
       "<tbody>\n",
       "\t<tr><th scope=row>1</th><td>HOMBRE</td><td>AMBULATORIO</td><td>NO APLICA</td><td>NA</td><td>NO</td><td>41</td><td>1</td><td>1</td><td>1</td><td>1</td><td>1</td><td>1</td><td>1</td><td>1</td></tr>\n",
       "\t<tr><th scope=row>2</th><td>MUJER </td><td>AMBULATORIO</td><td>NO APLICA</td><td>NA</td><td>NO</td><td>40</td><td>1</td><td>1</td><td>1</td><td>1</td><td>1</td><td>1</td><td>1</td><td>1</td></tr>\n",
       "\t<tr><th scope=row>3</th><td>HOMBRE</td><td>AMBULATORIO</td><td>NO APLICA</td><td>NA</td><td>NO</td><td>34</td><td>1</td><td>1</td><td>1</td><td>1</td><td>1</td><td>1</td><td>1</td><td>1</td></tr>\n",
       "\t<tr><th scope=row>4</th><td>MUJER </td><td>AMBULATORIO</td><td>NO APLICA</td><td>NA</td><td>NO</td><td>60</td><td>1</td><td>1</td><td>1</td><td>1</td><td>1</td><td>1</td><td>1</td><td>1</td></tr>\n",
       "\t<tr><th scope=row>5</th><td>MUJER </td><td>AMBULATORIO</td><td>NO APLICA</td><td>NA</td><td>NO</td><td>20</td><td>1</td><td>1</td><td>1</td><td>1</td><td>1</td><td>1</td><td>1</td><td>1</td></tr>\n",
       "\t<tr><th scope=row>6</th><td>MUJER </td><td>AMBULATORIO</td><td>NO APLICA</td><td>NA</td><td>NO</td><td>40</td><td>1</td><td>1</td><td>1</td><td>1</td><td>1</td><td>1</td><td>1</td><td>1</td></tr>\n",
       "</tbody>\n",
       "</table>\n"
      ],
      "text/latex": [
       "A data.frame: 6 × 14\n",
       "\\begin{tabular}{r|llllllllllllll}\n",
       "  & sexo & tipo\\_paciente & intubado & fecha\\_def & neumonia & edad & diabetes & epoc & asma & inmusupr & hipertension & obesidad & renal\\_cronica & tabaquismo\\\\\n",
       "  & <chr> & <chr> & <chr> & <chr> & <chr> & <int> & <dbl> & <dbl> & <dbl> & <dbl> & <dbl> & <dbl> & <dbl> & <dbl>\\\\\n",
       "\\hline\n",
       "\t1 & HOMBRE & AMBULATORIO & NO APLICA & NA & NO & 41 & 1 & 1 & 1 & 1 & 1 & 1 & 1 & 1\\\\\n",
       "\t2 & MUJER  & AMBULATORIO & NO APLICA & NA & NO & 40 & 1 & 1 & 1 & 1 & 1 & 1 & 1 & 1\\\\\n",
       "\t3 & HOMBRE & AMBULATORIO & NO APLICA & NA & NO & 34 & 1 & 1 & 1 & 1 & 1 & 1 & 1 & 1\\\\\n",
       "\t4 & MUJER  & AMBULATORIO & NO APLICA & NA & NO & 60 & 1 & 1 & 1 & 1 & 1 & 1 & 1 & 1\\\\\n",
       "\t5 & MUJER  & AMBULATORIO & NO APLICA & NA & NO & 20 & 1 & 1 & 1 & 1 & 1 & 1 & 1 & 1\\\\\n",
       "\t6 & MUJER  & AMBULATORIO & NO APLICA & NA & NO & 40 & 1 & 1 & 1 & 1 & 1 & 1 & 1 & 1\\\\\n",
       "\\end{tabular}\n"
      ],
      "text/markdown": [
       "\n",
       "A data.frame: 6 × 14\n",
       "\n",
       "| <!--/--> | sexo &lt;chr&gt; | tipo_paciente &lt;chr&gt; | intubado &lt;chr&gt; | fecha_def &lt;chr&gt; | neumonia &lt;chr&gt; | edad &lt;int&gt; | diabetes &lt;dbl&gt; | epoc &lt;dbl&gt; | asma &lt;dbl&gt; | inmusupr &lt;dbl&gt; | hipertension &lt;dbl&gt; | obesidad &lt;dbl&gt; | renal_cronica &lt;dbl&gt; | tabaquismo &lt;dbl&gt; |\n",
       "|---|---|---|---|---|---|---|---|---|---|---|---|---|---|---|\n",
       "| 1 | HOMBRE | AMBULATORIO | NO APLICA | NA | NO | 41 | 1 | 1 | 1 | 1 | 1 | 1 | 1 | 1 |\n",
       "| 2 | MUJER  | AMBULATORIO | NO APLICA | NA | NO | 40 | 1 | 1 | 1 | 1 | 1 | 1 | 1 | 1 |\n",
       "| 3 | HOMBRE | AMBULATORIO | NO APLICA | NA | NO | 34 | 1 | 1 | 1 | 1 | 1 | 1 | 1 | 1 |\n",
       "| 4 | MUJER  | AMBULATORIO | NO APLICA | NA | NO | 60 | 1 | 1 | 1 | 1 | 1 | 1 | 1 | 1 |\n",
       "| 5 | MUJER  | AMBULATORIO | NO APLICA | NA | NO | 20 | 1 | 1 | 1 | 1 | 1 | 1 | 1 | 1 |\n",
       "| 6 | MUJER  | AMBULATORIO | NO APLICA | NA | NO | 40 | 1 | 1 | 1 | 1 | 1 | 1 | 1 | 1 |\n",
       "\n"
      ],
      "text/plain": [
       "  sexo   tipo_paciente intubado  fecha_def neumonia edad diabetes epoc asma\n",
       "1 HOMBRE AMBULATORIO   NO APLICA NA        NO       41   1        1    1   \n",
       "2 MUJER  AMBULATORIO   NO APLICA NA        NO       40   1        1    1   \n",
       "3 HOMBRE AMBULATORIO   NO APLICA NA        NO       34   1        1    1   \n",
       "4 MUJER  AMBULATORIO   NO APLICA NA        NO       60   1        1    1   \n",
       "5 MUJER  AMBULATORIO   NO APLICA NA        NO       20   1        1    1   \n",
       "6 MUJER  AMBULATORIO   NO APLICA NA        NO       40   1        1    1   \n",
       "  inmusupr hipertension obesidad renal_cronica tabaquismo\n",
       "1 1        1            1        1             1         \n",
       "2 1        1            1        1             1         \n",
       "3 1        1            1        1             1         \n",
       "4 1        1            1        1             1         \n",
       "5 1        1            1        1             1         \n",
       "6 1        1            1        1             1         "
      ]
     },
     "metadata": {},
     "output_type": "display_data"
    }
   ],
   "source": [
    "head(df8)"
   ]
  },
  {
   "cell_type": "code",
   "execution_count": 361,
   "id": "e4d3f96b-1c5c-4e39-85b2-320ab8da3137",
   "metadata": {},
   "outputs": [],
   "source": [
    "df8$fecha_def<-format(df8$fecha_def, format=\"%V\")\n",
    "df8[\"def\"] <- 1\n",
    "df9<-subset(df8, fecha_def!=\"NA\")\n"
   ]
  },
  {
   "cell_type": "code",
   "execution_count": 362,
   "id": "7ad32e9e-a848-4b0a-9237-803a70e5bac5",
   "metadata": {},
   "outputs": [
    {
     "name": "stderr",
     "output_type": "stream",
     "text": [
      "`summarise()` has grouped output by 'sexo'. You can override using the `.groups` argument.\n",
      "\n"
     ]
    },
    {
     "data": {
      "text/plain": [
       "     sexo                edad           sum_def       \n",
       " Length:210         Min.   :  0.00   Min.   :   1.00  \n",
       " Class :character   1st Qu.: 26.00   1st Qu.:  20.25  \n",
       " Mode  :character   Median : 52.00   Median : 144.50  \n",
       "                    Mean   : 52.11   Mean   : 289.01  \n",
       "                    3rd Qu.: 78.00   3rd Qu.: 527.25  \n",
       "                    Max.   :119.00   Max.   :1139.00  "
      ]
     },
     "metadata": {},
     "output_type": "display_data"
    }
   ],
   "source": [
    "df10<-df9%>%\n",
    "  group_by(sexo, edad) %>%\n",
    "  summarise(sum_def = sum(def, na.rm = TRUE))\n",
    "\n",
    "summary(df10)"
   ]
  },
  {
   "cell_type": "code",
   "execution_count": 363,
   "id": "48ae33cf-5a08-4335-982d-776700c910cc",
   "metadata": {},
   "outputs": [
    {
     "data": {
      "image/png": "[encoded data removed]",
      "text/plain": [
       "Plot with title “Mortalidad por edad y género”"
      ]
     },
     "metadata": {
      "image/png": {
       "height": 420,
       "width": 420
      }
     },
     "output_type": "display_data"
    }
   ],
   "source": [
    "barplot(height=df10$sum_def, names=df10$edad,\n",
    "main = \"Mortalidad por edad y género\",\n",
    "xlab = \"Edad\",\n",
    "col = c(\"blue\")\n",
    ")"
   ]
  },
  {
   "cell_type": "markdown",
   "id": "ed20116b-bcc0-4d7d-8205-234ea21c016c",
   "metadata": {},
   "source": [
    "<h1> Marco!! No sé si me pudieras ayudar por favor con la gráfica de arriba para diferenciar en color al barplot de la derecha y el de la izquierda. Los 1s son mujeres y los 0s son hombres</h1>"
   ]
  },
  {
   "cell_type": "markdown",
   "id": "455dbbe2-f35f-41ef-8913-d43dd9af2ac2",
   "metadata": {},
   "source": [
    "<h2> Contingency Analysis </h2>"
   ]
  },
  {
   "cell_type": "markdown",
   "id": "786b9d66-d70f-48b4-b8e2-2b435fcc271e",
   "metadata": {},
   "source": [
    "Existe la hipótesis que una persona es intubada si presenta cierto tipo de condiciones: asma, diabetes, epoc, etc. Para un nivel de significancia de .05, vamos a rechazar o aceptar la hipótesis de independencia de estas variables"
   ]
  },
  {
   "cell_type": "code",
   "execution_count": 340,
   "id": "691cdb10-b0af-4631-aad7-45aedd9dd810",
   "metadata": {},
   "outputs": [],
   "source": [
    "df10<-subset(df8, intubado!='NO APLICA')\n",
    "df11<-subset(df10, intubado!='NO ESPECIFICADO')\n"
   ]
  },
  {
   "cell_type": "code",
   "execution_count": 341,
   "id": "1551bb5f-d0eb-4faa-a83a-be00c6a56b45",
   "metadata": {},
   "outputs": [],
   "source": [
    "#df11$intubado<-ifelse(df11$intubado=='NO',0,1)"
   ]
  },
  {
   "cell_type": "code",
   "execution_count": 342,
   "id": "e789ec7a-d172-4bb5-9fc6-82bbc56a5ca6",
   "metadata": {},
   "outputs": [],
   "source": [
    "df_intubado <-select(df11,sexo,intubado,diabetes, epoc, asma, inmusupr, hipertension, obesidad, renal_cronica, tabaquismo)"
   ]
  },
  {
   "cell_type": "code",
   "execution_count": 343,
   "id": "a022b874-6f74-4e47-8ae6-356e70c2f096",
   "metadata": {},
   "outputs": [
    {
     "data": {
      "text/html": [
       "<table class=\"dataframe\">\n",
       "<caption>A data.frame: 6 × 10</caption>\n",
       "<thead>\n",
       "\t<tr><th></th><th scope=col>sexo</th><th scope=col>intubado</th><th scope=col>diabetes</th><th scope=col>epoc</th><th scope=col>asma</th><th scope=col>inmusupr</th><th scope=col>hipertension</th><th scope=col>obesidad</th><th scope=col>renal_cronica</th><th scope=col>tabaquismo</th></tr>\n",
       "\t<tr><th></th><th scope=col>&lt;chr&gt;</th><th scope=col>&lt;chr&gt;</th><th scope=col>&lt;dbl&gt;</th><th scope=col>&lt;dbl&gt;</th><th scope=col>&lt;dbl&gt;</th><th scope=col>&lt;dbl&gt;</th><th scope=col>&lt;dbl&gt;</th><th scope=col>&lt;dbl&gt;</th><th scope=col>&lt;dbl&gt;</th><th scope=col>&lt;dbl&gt;</th></tr>\n",
       "</thead>\n",
       "<tbody>\n",
       "\t<tr><th scope=row>20</th><td>HOMBRE</td><td>SI</td><td>0</td><td>0</td><td>0</td><td>0</td><td>0</td><td>0</td><td>0</td><td>1</td></tr>\n",
       "\t<tr><th scope=row>27</th><td>HOMBRE</td><td>NO</td><td>1</td><td>0</td><td>0</td><td>0</td><td>0</td><td>0</td><td>0</td><td>0</td></tr>\n",
       "\t<tr><th scope=row>32</th><td>HOMBRE</td><td>NO</td><td>0</td><td>0</td><td>0</td><td>0</td><td>0</td><td>0</td><td>0</td><td>0</td></tr>\n",
       "\t<tr><th scope=row>53</th><td>MUJER </td><td>NO</td><td>0</td><td>0</td><td>0</td><td>1</td><td>1</td><td>0</td><td>1</td><td>0</td></tr>\n",
       "\t<tr><th scope=row>61</th><td>MUJER </td><td>NO</td><td>0</td><td>0</td><td>0</td><td>0</td><td>0</td><td>0</td><td>0</td><td>0</td></tr>\n",
       "\t<tr><th scope=row>97</th><td>HOMBRE</td><td>NO</td><td>0</td><td>0</td><td>0</td><td>0</td><td>0</td><td>0</td><td>0</td><td>0</td></tr>\n",
       "</tbody>\n",
       "</table>\n"
      ],
      "text/latex": [
       "A data.frame: 6 × 10\n",
       "\\begin{tabular}{r|llllllllll}\n",
       "  & sexo & intubado & diabetes & epoc & asma & inmusupr & hipertension & obesidad & renal\\_cronica & tabaquismo\\\\\n",
       "  & <chr> & <chr> & <dbl> & <dbl> & <dbl> & <dbl> & <dbl> & <dbl> & <dbl> & <dbl>\\\\\n",
       "\\hline\n",
       "\t20 & HOMBRE & SI & 0 & 0 & 0 & 0 & 0 & 0 & 0 & 1\\\\\n",
       "\t27 & HOMBRE & NO & 1 & 0 & 0 & 0 & 0 & 0 & 0 & 0\\\\\n",
       "\t32 & HOMBRE & NO & 0 & 0 & 0 & 0 & 0 & 0 & 0 & 0\\\\\n",
       "\t53 & MUJER  & NO & 0 & 0 & 0 & 1 & 1 & 0 & 1 & 0\\\\\n",
       "\t61 & MUJER  & NO & 0 & 0 & 0 & 0 & 0 & 0 & 0 & 0\\\\\n",
       "\t97 & HOMBRE & NO & 0 & 0 & 0 & 0 & 0 & 0 & 0 & 0\\\\\n",
       "\\end{tabular}\n"
      ],
      "text/markdown": [
       "\n",
       "A data.frame: 6 × 10\n",
       "\n",
       "| <!--/--> | sexo &lt;chr&gt; | intubado &lt;chr&gt; | diabetes &lt;dbl&gt; | epoc &lt;dbl&gt; | asma &lt;dbl&gt; | inmusupr &lt;dbl&gt; | hipertension &lt;dbl&gt; | obesidad &lt;dbl&gt; | renal_cronica &lt;dbl&gt; | tabaquismo &lt;dbl&gt; |\n",
       "|---|---|---|---|---|---|---|---|---|---|---|\n",
       "| 20 | HOMBRE | SI | 0 | 0 | 0 | 0 | 0 | 0 | 0 | 1 |\n",
       "| 27 | HOMBRE | NO | 1 | 0 | 0 | 0 | 0 | 0 | 0 | 0 |\n",
       "| 32 | HOMBRE | NO | 0 | 0 | 0 | 0 | 0 | 0 | 0 | 0 |\n",
       "| 53 | MUJER  | NO | 0 | 0 | 0 | 1 | 1 | 0 | 1 | 0 |\n",
       "| 61 | MUJER  | NO | 0 | 0 | 0 | 0 | 0 | 0 | 0 | 0 |\n",
       "| 97 | HOMBRE | NO | 0 | 0 | 0 | 0 | 0 | 0 | 0 | 0 |\n",
       "\n"
      ],
      "text/plain": [
       "   sexo   intubado diabetes epoc asma inmusupr hipertension obesidad\n",
       "20 HOMBRE SI       0        0    0    0        0            0       \n",
       "27 HOMBRE NO       1        0    0    0        0            0       \n",
       "32 HOMBRE NO       0        0    0    0        0            0       \n",
       "53 MUJER  NO       0        0    0    1        1            0       \n",
       "61 MUJER  NO       0        0    0    0        0            0       \n",
       "97 HOMBRE NO       0        0    0    0        0            0       \n",
       "   renal_cronica tabaquismo\n",
       "20 0             1         \n",
       "27 0             0         \n",
       "32 0             0         \n",
       "53 1             0         \n",
       "61 0             0         \n",
       "97 0             0         "
      ]
     },
     "metadata": {},
     "output_type": "display_data"
    }
   ],
   "source": [
    "head(df_intubado)"
   ]
  },
  {
   "cell_type": "code",
   "execution_count": 344,
   "id": "8ceed3da-2c8f-44ad-a5dd-d9fe495f3a11",
   "metadata": {},
   "outputs": [],
   "source": [
    "df_chi<-df_intubado%>%\n",
    "  group_by(intubado) %>%\n",
    "  summarise(sum_diab = sum(diabetes, na.rm = TRUE),sum_EPOC = sum(epoc, na.rm = TRUE),sum_asma = sum(asma, na.rm = TRUE),sum_inmusupr = sum(inmusupr, na.rm = TRUE),sum_hipertension = sum(hipertension, na.rm = TRUE),sum_obesidad = sum(obesidad, na.rm = TRUE),sum_renal_cronica = sum(renal_cronica, na.rm = TRUE),tabaquismo = sum(tabaquismo, na.rm = TRUE) )\n"
   ]
  },
  {
   "cell_type": "code",
   "execution_count": 345,
   "id": "ed2eae2a-c5ef-4dee-ad22-fbb3e8b341d7",
   "metadata": {},
   "outputs": [
    {
     "data": {
      "text/html": [
       "<table class=\"dataframe\">\n",
       "<caption>A tibble: 2 × 9</caption>\n",
       "<thead>\n",
       "\t<tr><th scope=col>intubado</th><th scope=col>sum_diab</th><th scope=col>sum_EPOC</th><th scope=col>sum_asma</th><th scope=col>sum_inmusupr</th><th scope=col>sum_hipertension</th><th scope=col>sum_obesidad</th><th scope=col>sum_renal_cronica</th><th scope=col>tabaquismo</th></tr>\n",
       "\t<tr><th scope=col>&lt;chr&gt;</th><th scope=col>&lt;dbl&gt;</th><th scope=col>&lt;dbl&gt;</th><th scope=col>&lt;dbl&gt;</th><th scope=col>&lt;dbl&gt;</th><th scope=col>&lt;dbl&gt;</th><th scope=col>&lt;dbl&gt;</th><th scope=col>&lt;dbl&gt;</th><th scope=col>&lt;dbl&gt;</th></tr>\n",
       "</thead>\n",
       "<tbody>\n",
       "\t<tr><td>NO</td><td>34596</td><td>4946</td><td>3146</td><td>5778</td><td>40376</td><td>23436</td><td>7618</td><td>12620</td></tr>\n",
       "\t<tr><td>SI</td><td> 7613</td><td>1016</td><td> 514</td><td> 942</td><td> 8593</td><td> 5613</td><td>1439</td><td> 2735</td></tr>\n",
       "</tbody>\n",
       "</table>\n"
      ],
      "text/latex": [
       "A tibble: 2 × 9\n",
       "\\begin{tabular}{lllllllll}\n",
       " intubado & sum\\_diab & sum\\_EPOC & sum\\_asma & sum\\_inmusupr & sum\\_hipertension & sum\\_obesidad & sum\\_renal\\_cronica & tabaquismo\\\\\n",
       " <chr> & <dbl> & <dbl> & <dbl> & <dbl> & <dbl> & <dbl> & <dbl> & <dbl>\\\\\n",
       "\\hline\n",
       "\t NO & 34596 & 4946 & 3146 & 5778 & 40376 & 23436 & 7618 & 12620\\\\\n",
       "\t SI &  7613 & 1016 &  514 &  942 &  8593 &  5613 & 1439 &  2735\\\\\n",
       "\\end{tabular}\n"
      ],
      "text/markdown": [
       "\n",
       "A tibble: 2 × 9\n",
       "\n",
       "| intubado &lt;chr&gt; | sum_diab &lt;dbl&gt; | sum_EPOC &lt;dbl&gt; | sum_asma &lt;dbl&gt; | sum_inmusupr &lt;dbl&gt; | sum_hipertension &lt;dbl&gt; | sum_obesidad &lt;dbl&gt; | sum_renal_cronica &lt;dbl&gt; | tabaquismo &lt;dbl&gt; |\n",
       "|---|---|---|---|---|---|---|---|---|\n",
       "| NO | 34596 | 4946 | 3146 | 5778 | 40376 | 23436 | 7618 | 12620 |\n",
       "| SI |  7613 | 1016 |  514 |  942 |  8593 |  5613 | 1439 |  2735 |\n",
       "\n"
      ],
      "text/plain": [
       "  intubado sum_diab sum_EPOC sum_asma sum_inmusupr sum_hipertension\n",
       "1 NO       34596    4946     3146     5778         40376           \n",
       "2 SI        7613    1016      514      942          8593           \n",
       "  sum_obesidad sum_renal_cronica tabaquismo\n",
       "1 23436        7618              12620     \n",
       "2  5613        1439               2735     "
      ]
     },
     "metadata": {},
     "output_type": "display_data"
    }
   ],
   "source": [
    "df_chi"
   ]
  },
  {
   "cell_type": "code",
   "execution_count": 346,
   "id": "e2e951ff-5be6-44d5-a524-9fdf39a1b695",
   "metadata": {},
   "outputs": [
    {
     "data": {
      "text/html": [
       "<table class=\"dataframe\">\n",
       "<caption>A matrix: 2 × 8 of type dbl</caption>\n",
       "<thead>\n",
       "\t<tr><th></th><th scope=col>Diabetes</th><th scope=col>EPOC</th><th scope=col>Asma</th><th scope=col>Inmunosuprimido</th><th scope=col>Hipertension</th><th scope=col>Obesidad</th><th scope=col>Renal cronico</th><th scope=col>Tabaquismo</th></tr>\n",
       "</thead>\n",
       "<tbody>\n",
       "\t<tr><th scope=row>NO INTUBADO</th><td>34596</td><td>4946</td><td>3146</td><td>5778</td><td>40376</td><td>23436</td><td>7618</td><td>12620</td></tr>\n",
       "\t<tr><th scope=row>INTUBADO</th><td> 7613</td><td>1016</td><td> 514</td><td> 942</td><td> 8593</td><td> 5613</td><td>1439</td><td> 2735</td></tr>\n",
       "</tbody>\n",
       "</table>\n"
      ],
      "text/latex": [
       "A matrix: 2 × 8 of type dbl\n",
       "\\begin{tabular}{r|llllllll}\n",
       "  & Diabetes & EPOC & Asma & Inmunosuprimido & Hipertension & Obesidad & Renal cronico & Tabaquismo\\\\\n",
       "\\hline\n",
       "\tNO INTUBADO & 34596 & 4946 & 3146 & 5778 & 40376 & 23436 & 7618 & 12620\\\\\n",
       "\tINTUBADO &  7613 & 1016 &  514 &  942 &  8593 &  5613 & 1439 &  2735\\\\\n",
       "\\end{tabular}\n"
      ],
      "text/markdown": [
       "\n",
       "A matrix: 2 × 8 of type dbl\n",
       "\n",
       "| <!--/--> | Diabetes | EPOC | Asma | Inmunosuprimido | Hipertension | Obesidad | Renal cronico | Tabaquismo |\n",
       "|---|---|---|---|---|---|---|---|---|\n",
       "| NO INTUBADO | 34596 | 4946 | 3146 | 5778 | 40376 | 23436 | 7618 | 12620 |\n",
       "| INTUBADO |  7613 | 1016 |  514 |  942 |  8593 |  5613 | 1439 |  2735 |\n",
       "\n"
      ],
      "text/plain": [
       "            Diabetes EPOC Asma Inmunosuprimido Hipertension Obesidad\n",
       "NO INTUBADO 34596    4946 3146 5778            40376        23436   \n",
       "INTUBADO     7613    1016  514  942             8593         5613   \n",
       "            Renal cronico Tabaquismo\n",
       "NO INTUBADO 7618          12620     \n",
       "INTUBADO    1439           2735     "
      ]
     },
     "metadata": {},
     "output_type": "display_data"
    }
   ],
   "source": [
    "observed_table <- matrix(c(34596,4946,3146,5778,40376,23436,7618,12620,7613,1016,514,942,8593,5613,1439,2735), nrow = 2, ncol = 8, byrow = T)\n",
    "rownames(observed_table) <- c('NO INTUBADO', 'INTUBADO')\n",
    "colnames(observed_table) <- c('Diabetes', 'EPOC', 'Asma','Inmunosuprimido','Hipertension','Obesidad','Renal cronico', 'Tabaquismo')\n",
    "observed_table"
   ]
  },
  {
   "cell_type": "markdown",
   "id": "d6550ef6-812b-4db2-a59e-2133037edb02",
   "metadata": {},
   "source": [
    "$$H_0: \\text{las dos variables son independientes(estar intubado y estado de salud)}$$\n",
    "$$H_1: \\text{las dos variables no son independientes}$$"
   ]
  },
  {
   "cell_type": "code",
   "execution_count": 347,
   "id": "9d0d74e1-a371-4f00-a73d-86f1eace1e16",
   "metadata": {},
   "outputs": [],
   "source": [
    "chi_test <- chisq.test(observed_table)"
   ]
  },
  {
   "cell_type": "code",
   "execution_count": 348,
   "id": "76bc03c8-7589-4e9f-b7d9-46643480af4f",
   "metadata": {},
   "outputs": [
    {
     "data": {
      "text/plain": [
       "\n",
       "\tPearson's Chi-squared test\n",
       "\n",
       "data:  observed_table\n",
       "X-squared = 175.11, df = 7, p-value < 0.00000000000000022\n"
      ]
     },
     "metadata": {},
     "output_type": "display_data"
    }
   ],
   "source": [
    "chi_test"
   ]
  },
  {
   "cell_type": "markdown",
   "id": "d5830b43-b1b8-4179-b317-2134c1beba3e",
   "metadata": {},
   "source": [
    "El valor p es menor que el nivel de significancia (0.05). Por tanto, podemos rechazar la hipótesis nula y concluir que las dos variables (estar intubado y condición médica) no son independientes."
   ]
  },
  {
   "cell_type": "markdown",
   "id": "fd1bebe3-9414-4556-a792-fff3a38ad24b",
   "metadata": {},
   "source": [
    "<h3>Fuentes:</h3>\n",
    "\n",
    "[Contingency analysis in r](https://www.datacamp.com/community/tutorials/contingency-analysis-r)  \n",
    "[How to extract year from date in r](\n",
    "https://www.marsja.se/how-to-extract-year-from-date-in-r-with-examples/#How_do_I_get_the_year_from_a_date_in_R)  \n",
    "[Delete or drop rows in r](https://www.datasciencemadesimple.com/delete-or-drop-rows-in-r-with-conditions-2/)  \n",
    "[How to add new columns in r](https://stackoverflow.com/questions/19508256/how-to-add-new-column-to-an-dataframe-to-the-front-not-end)  \n",
    "[Aggregating and analyzing data with dplyr](https://datacarpentry.org/R-genomics/04-dplyr.html)  \n",
    "[Integrate function](https://www.rdocumentation.org/packages/stats/versions/3.6.2/topics/integrate)\n",
    "[From String to double](https://stackoverflow.com/questions/26734913/r-converting-from-string-to-double)  \n",
    "[polyfit, polyval en R](https://www.youtube.com/watch?v=ZQJO8mlhj7A)  \n",
    "[Gauss Legendre](https://www.rdocumentation.org/packages/pracma/versions/1.9.9/topics/gaussLegendre)  \n",
    "[Spline Function](https://astrostatistics.psu.edu/su07/R/html/stats/html/splinefun.html)  \n",
    "[How to change the code ues to 1 in r](https://www.tutorialspoint.com/how-to-change-the-code-yes-to-1-in-an-r-data-frame-column)  \n",
    "[Replace NA values with zeros](https://stackoverflow.com/questions/8161836/how-do-i-replace-na-values-with-zeros-in-an-r-dataframe)"
   ]
  },
  {
   "cell_type": "code",
   "execution_count": null,
   "id": "687d1a15-cf10-4be1-bc41-00a16295d2e9",
   "metadata": {},
   "outputs": [],
   "source": []
  }
 ],
 "metadata": {
  "kernelspec": {
   "display_name": "R",
   "language": "R",
   "name": "ir"
  },
  "language_info": {
   "codemirror_mode": "r",
   "file_extension": ".r",
   "mimetype": "text/x-r-source",
   "name": "R",
   "pygments_lexer": "r",
   "version": "4.1.0"
  }
 },
 "nbformat": 4,
 "nbformat_minor": 5
}
