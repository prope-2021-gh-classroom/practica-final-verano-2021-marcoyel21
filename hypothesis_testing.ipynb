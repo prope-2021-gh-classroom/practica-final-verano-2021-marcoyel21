{
 "cells": [
  {
   "cell_type": "markdown",
   "id": "7cdfe245",
   "metadata": {},
   "source": [
    "\n",
    "# Aplicación de herramientas de clase\n",
    "\n"
   ]
  },
  {
   "cell_type": "code",
   "execution_count": 12,
   "id": "b2a5609b",
   "metadata": {},
   "outputs": [
    {
     "name": "stderr",
     "output_type": "stream",
     "text": [
      "\n",
      "Attaching package: ‘dplyr’\n",
      "\n",
      "The following objects are masked from ‘package:stats’:\n",
      "\n",
      "    filter, lag\n",
      "\n",
      "The following objects are masked from ‘package:base’:\n",
      "\n",
      "    intersect, setdiff, setequal, union\n",
      "\n"
     ]
    }
   ],
   "source": [
    "library(readr)\n",
    "library(dplyr)\n",
    "data<-read.csv(\"data.csv\") #retomamos la base de datos creada en el script de limpieza"
   ]
  },
  {
   "cell_type": "markdown",
   "id": "08718d4f",
   "metadata": {},
   "source": [
    "## Pruebas de hipótesis interesantes"
   ]
  },
  {
   "cell_type": "code",
   "execution_count": null,
   "id": "3b917bf8",
   "metadata": {},
   "outputs": [],
   "source": [
    "#privada vs imss vs isste\n",
    "\n",
    "\n",
    "#indigena afecta\n",
    "\n",
    "# Hipertesion\n",
    "\n",
    "## diabetes obesidad\n",
    "## tabaquismo\n"
   ]
  },
  {
   "cell_type": "markdown",
   "id": "bbe97177",
   "metadata": {},
   "source": [
    "¿Existe un efecto diferenciado de la mortalidad frente al imss, isste e institución privada?\n"
   ]
  },
  {
   "cell_type": "code",
   "execution_count": 63,
   "id": "c04c9c6d",
   "metadata": {},
   "outputs": [
    {
     "data": {
      "text/html": [
       "<table>\n",
       "<thead><tr><th scope=col>sector</th><th scope=col>count_dths</th><th scope=col>count_pplo</th><th scope=col>letalidad</th></tr></thead>\n",
       "<tbody>\n",
       "\t<tr><td>CRUZ ROJA </td><td>    1     </td><td>    87    </td><td>0.01149425</td></tr>\n",
       "\t<tr><td>ESTATAL   </td><td>   41     </td><td>   246    </td><td>0.16666667</td></tr>\n",
       "\t<tr><td>IMSS      </td><td>19553     </td><td> 84291    </td><td>0.23197020</td></tr>\n",
       "\t<tr><td>ISSSTE    </td><td> 2335     </td><td>  7660    </td><td>0.30483029</td></tr>\n",
       "\t<tr><td>PEMEX     </td><td>  994     </td><td>  5574    </td><td>0.17832795</td></tr>\n",
       "\t<tr><td>PRIVADA   </td><td>  446     </td><td>  8520    </td><td>0.05234742</td></tr>\n",
       "\t<tr><td>SEDENA    </td><td>  536     </td><td>  2842    </td><td>0.18859958</td></tr>\n",
       "\t<tr><td>SEMAR     </td><td>  230     </td><td>  3042    </td><td>0.07560815</td></tr>\n",
       "\t<tr><td>SSA       </td><td> 8218     </td><td>243092    </td><td>0.03380613</td></tr>\n",
       "</tbody>\n",
       "</table>\n"
      ],
      "text/latex": [
       "\\begin{tabular}{r|llll}\n",
       " sector & count\\_dths & count\\_pplo & letalidad\\\\\n",
       "\\hline\n",
       "\t CRUZ ROJA  &     1      &     87     & 0.01149425\\\\\n",
       "\t ESTATAL    &    41      &    246     & 0.16666667\\\\\n",
       "\t IMSS       & 19553      &  84291     & 0.23197020\\\\\n",
       "\t ISSSTE     &  2335      &   7660     & 0.30483029\\\\\n",
       "\t PEMEX      &   994      &   5574     & 0.17832795\\\\\n",
       "\t PRIVADA    &   446      &   8520     & 0.05234742\\\\\n",
       "\t SEDENA     &   536      &   2842     & 0.18859958\\\\\n",
       "\t SEMAR      &   230      &   3042     & 0.07560815\\\\\n",
       "\t SSA        &  8218      & 243092     & 0.03380613\\\\\n",
       "\\end{tabular}\n"
      ],
      "text/markdown": [
       "\n",
       "| sector | count_dths | count_pplo | letalidad |\n",
       "|---|---|---|---|\n",
       "| CRUZ ROJA  |     1      |     87     | 0.01149425 |\n",
       "| ESTATAL    |    41      |    246     | 0.16666667 |\n",
       "| IMSS       | 19553      |  84291     | 0.23197020 |\n",
       "| ISSSTE     |  2335      |   7660     | 0.30483029 |\n",
       "| PEMEX      |   994      |   5574     | 0.17832795 |\n",
       "| PRIVADA    |   446      |   8520     | 0.05234742 |\n",
       "| SEDENA     |   536      |   2842     | 0.18859958 |\n",
       "| SEMAR      |   230      |   3042     | 0.07560815 |\n",
       "| SSA        |  8218      | 243092     | 0.03380613 |\n",
       "\n"
      ],
      "text/plain": [
       "  sector    count_dths count_pplo letalidad \n",
       "1 CRUZ ROJA     1          87     0.01149425\n",
       "2 ESTATAL      41         246     0.16666667\n",
       "3 IMSS      19553       84291     0.23197020\n",
       "4 ISSSTE     2335        7660     0.30483029\n",
       "5 PEMEX       994        5574     0.17832795\n",
       "6 PRIVADA     446        8520     0.05234742\n",
       "7 SEDENA      536        2842     0.18859958\n",
       "8 SEMAR       230        3042     0.07560815\n",
       "9 SSA        8218      243092     0.03380613"
      ]
     },
     "metadata": {},
     "output_type": "display_data"
    },
    {
     "data": {
      "text/html": [
       "0.0910472374027027"
      ],
      "text/latex": [
       "0.0910472374027027"
      ],
      "text/markdown": [
       "0.0910472374027027"
      ],
      "text/plain": [
       "[1] 0.09104724"
      ]
     },
     "metadata": {},
     "output_type": "display_data"
    },
    {
     "data": {
      "text/html": [
       "2945.74231892704"
      ],
      "text/latex": [
       "2945.74231892704"
      ],
      "text/markdown": [
       "2945.74231892704"
      ],
      "text/plain": [
       "[1] 2945.742"
      ]
     },
     "metadata": {},
     "output_type": "display_data"
    },
    {
     "data": {
      "text/html": [
       "51.7449546216719"
      ],
      "text/latex": [
       "51.7449546216719"
      ],
      "text/markdown": [
       "51.7449546216719"
      ],
      "text/plain": [
       "[1] 51.74495"
      ]
     },
     "metadata": {},
     "output_type": "display_data"
    },
    {
     "data": {
      "text/html": [
       "0.0827576379640386"
      ],
      "text/latex": [
       "0.0827576379640386"
      ],
      "text/markdown": [
       "0.0827576379640386"
      ],
      "text/plain": [
       "[1] 0.08275764"
      ]
     },
     "metadata": {},
     "output_type": "display_data"
    }
   ],
   "source": [
    "source<-data %>% \n",
    "select(resultado_lab,fecha_def,sector) %>% \n",
    "filter (resultado_lab==\"POSITIVO A SARS-COV-2\")#\n",
    "\n",
    "#aqui cuento la cantidad de personas atendidas en cada sector\n",
    "people_by_hospital<-source%>% \n",
    "group_by(sector) %>% \n",
    "summarize(count_pplo=n())\n",
    "#filter(fecha_def != \"NA\" )\n",
    "\n",
    "#Aqui asumo que la persona murio si solo si hay fecha de defuncion, con base en eso calculo la cantidad de fallecidos\n",
    "death_by_hospital<-source %>% \n",
    "filter(fecha_def != \"NA\" )%>% \n",
    "group_by(sector) %>% \n",
    "summarize(count_dths=n())\n",
    "\n",
    "#match\n",
    "(letalidad<-merge(death_by_hospital,people_by_hospital, by=\"sector\") %>% \n",
    " mutate(letalidad=count_dths/count_pplo))\n",
    "\n",
    "##letalidad global\n",
    "(global_letality<-sum(letalidad$count_dths)/sum(letalidad$count_pplo))\n"
   ]
  },
  {
   "cell_type": "markdown",
   "id": "9297618b",
   "metadata": {},
   "source": [
    "Prueba de hipotesis:\n",
    "\n",
    "¿Es letalidad en el sector j mayor a la letalidad del país?\n",
    "\n",
    "$H_n: \\mu_j=.091$\n",
    "\n",
    "$H_a: \\mu_j >.091$"
   ]
  },
  {
   "cell_type": "code",
   "execution_count": 65,
   "id": "d2a80d9c",
   "metadata": {},
   "outputs": [],
   "source": [
    "#Asumimos que la probabilidad \n",
    "\n",
    "letalidad<-letalidad %>% \n",
    "mutate (esperanza=count_pplo*letalidad ,st_let = sqrt(count_pplo*(1-letalidad)))%>% \n",
    "mutate(z = (letalidad*count_pplo-global_letality*count_pplo)/sqrt(global_letality*count_pplo*(1-global_letality)))\n"
   ]
  },
  {
   "cell_type": "markdown",
   "id": "b167e733",
   "metadata": {},
   "source": [
    "Para la prueba de hipótesis asumiremos que la distribución de deceso es binomial y partiendo de eso aprovecharemos el teorema del limite central poder realizar las pruebas de hipotesis con base en el estadístico Z.\n",
    "\n",
    "$Z=\\frac{p-n\\pi}{\\sqrt{n\\pi(1-\\pi)}}$\n",
    "\n",
    "donde $p=$ letalidad $\\cdot n$"
   ]
  },
  {
   "cell_type": "code",
   "execution_count": 84,
   "id": "295d5277",
   "metadata": {},
   "outputs": [],
   "source": [
    "limit<-qnorm(.995,0,1) # for alpha=.01 one talied\n",
    "letalidad<-\n",
    "letalidad %>% mutate(prueba=ifelse(z>limit,\"Se rechaza H0\", \"No se rechaza H0\"))"
   ]
  },
  {
   "cell_type": "code",
   "execution_count": 85,
   "id": "d57db813",
   "metadata": {},
   "outputs": [
    {
     "data": {
      "text/html": [
       "<table>\n",
       "<thead><tr><th scope=col>sector</th><th scope=col>z</th><th scope=col>prueba</th></tr></thead>\n",
       "<tbody>\n",
       "\t<tr><td>CRUZ ROJA       </td><td> -2.579361      </td><td>No se rechaza H0</td></tr>\n",
       "\t<tr><td>ESTATAL         </td><td>  4.122844      </td><td>Se rechaza H0   </td></tr>\n",
       "\t<tr><td>IMSS            </td><td>142.222504      </td><td>Se rechaza H0   </td></tr>\n",
       "\t<tr><td>ISSSTE          </td><td> 65.040461      </td><td>Se rechaza H0   </td></tr>\n",
       "\t<tr><td>PEMEX           </td><td> 22.651540      </td><td>Se rechaza H0   </td></tr>\n",
       "\t<tr><td>PRIVADA         </td><td>-12.417229      </td><td>No se rechaza H0</td></tr>\n",
       "\t<tr><td>SEDENA          </td><td> 18.077805      </td><td>Se rechaza H0   </td></tr>\n",
       "\t<tr><td>SEMAR           </td><td> -2.960037      </td><td>No se rechaza H0</td></tr>\n",
       "\t<tr><td>SSA             </td><td>-98.104586      </td><td>No se rechaza H0</td></tr>\n",
       "</tbody>\n",
       "</table>\n"
      ],
      "text/latex": [
       "\\begin{tabular}{r|lll}\n",
       " sector & z & prueba\\\\\n",
       "\\hline\n",
       "\t CRUZ ROJA        &  -2.579361       & No se rechaza H0\\\\\n",
       "\t ESTATAL          &   4.122844       & Se rechaza H0   \\\\\n",
       "\t IMSS             & 142.222504       & Se rechaza H0   \\\\\n",
       "\t ISSSTE           &  65.040461       & Se rechaza H0   \\\\\n",
       "\t PEMEX            &  22.651540       & Se rechaza H0   \\\\\n",
       "\t PRIVADA          & -12.417229       & No se rechaza H0\\\\\n",
       "\t SEDENA           &  18.077805       & Se rechaza H0   \\\\\n",
       "\t SEMAR            &  -2.960037       & No se rechaza H0\\\\\n",
       "\t SSA              & -98.104586       & No se rechaza H0\\\\\n",
       "\\end{tabular}\n"
      ],
      "text/markdown": [
       "\n",
       "| sector | z | prueba |\n",
       "|---|---|---|\n",
       "| CRUZ ROJA        |  -2.579361       | No se rechaza H0 |\n",
       "| ESTATAL          |   4.122844       | Se rechaza H0    |\n",
       "| IMSS             | 142.222504       | Se rechaza H0    |\n",
       "| ISSSTE           |  65.040461       | Se rechaza H0    |\n",
       "| PEMEX            |  22.651540       | Se rechaza H0    |\n",
       "| PRIVADA          | -12.417229       | No se rechaza H0 |\n",
       "| SEDENA           |  18.077805       | Se rechaza H0    |\n",
       "| SEMAR            |  -2.960037       | No se rechaza H0 |\n",
       "| SSA              | -98.104586       | No se rechaza H0 |\n",
       "\n"
      ],
      "text/plain": [
       "  sector    z          prueba          \n",
       "1 CRUZ ROJA  -2.579361 No se rechaza H0\n",
       "2 ESTATAL     4.122844 Se rechaza H0   \n",
       "3 IMSS      142.222504 Se rechaza H0   \n",
       "4 ISSSTE     65.040461 Se rechaza H0   \n",
       "5 PEMEX      22.651540 Se rechaza H0   \n",
       "6 PRIVADA   -12.417229 No se rechaza H0\n",
       "7 SEDENA     18.077805 Se rechaza H0   \n",
       "8 SEMAR      -2.960037 No se rechaza H0\n",
       "9 SSA       -98.104586 No se rechaza H0"
      ]
     },
     "metadata": {},
     "output_type": "display_data"
    }
   ],
   "source": [
    "letalidad %>% select (sector, z, prueba)"
   ]
  },
  {
   "cell_type": "markdown",
   "id": "2b93ef01",
   "metadata": {},
   "source": [
    "# Notas\n",
    "resultado_lab==\"POSITIVO A SARS-COV-2\"\n",
    "fecha_def is not NA\n",
    "sector"
   ]
  },
  {
   "cell_type": "code",
   "execution_count": null,
   "id": "2ca53d24",
   "metadata": {},
   "outputs": [],
   "source": []
  }
 ],
 "metadata": {
  "kernelspec": {
   "display_name": "R",
   "language": "R",
   "name": "ir"
  },
  "language_info": {
   "codemirror_mode": "r",
   "file_extension": ".r",
   "mimetype": "text/x-r-source",
   "name": "R",
   "pygments_lexer": "r",
   "version": "3.6.1"
  }
 },
 "nbformat": 4,
 "nbformat_minor": 5
}
